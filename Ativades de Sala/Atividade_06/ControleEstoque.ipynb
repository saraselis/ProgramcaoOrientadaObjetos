{
 "cells": [
  {
   "cell_type": "markdown",
   "metadata": {},
   "source": []
  },
  {
   "cell_type": "markdown",
   "metadata": {},
   "source": [
    "# Atividade 06 - POO\n",
    "Projete e implemente o sistema que faz controle de estoque de uma dessas plataformas de venda online, guardando a disposição dos itens nos locais de armazenamento, tipos de pagamento e preço de frete para a entrega."
   ]
  },
  {
   "cell_type": "markdown",
   "metadata": {},
   "source": [
    "* Banco onde vamos gerir o estoque dos produtos"
   ]
  },
  {
   "cell_type": "code",
   "execution_count": 5,
   "metadata": {},
   "outputs": [
    {
     "name": "stdout",
     "output_type": "stream",
     "text": [
      "Defaulting to user installation because normal site-packages is not writeable\n",
      "Requirement already satisfied: numpy in /home/stefanini/.local/lib/python3.6/site-packages (1.18.4)\n"
     ]
    }
   ],
   "source": [
    "!pip3 install pymongo"
   ]
  },
  {
   "cell_type": "code",
   "execution_count": 7,
   "metadata": {},
   "outputs": [
    {
     "ename": "ModuleNotFoundError",
     "evalue": "No module named 'pymongo'",
     "output_type": "error",
     "traceback": [
      "\u001b[0;31m---------------------------------------------------------------------------\u001b[0m",
      "\u001b[0;31mModuleNotFoundError\u001b[0m                       Traceback (most recent call last)",
      "\u001b[0;32m<ipython-input-7-214d66698402>\u001b[0m in \u001b[0;36m<module>\u001b[0;34m\u001b[0m\n\u001b[0;32m----> 1\u001b[0;31m \u001b[0;32mfrom\u001b[0m \u001b[0mpymongo\u001b[0m \u001b[0;32mimport\u001b[0m \u001b[0mMongoClient\u001b[0m\u001b[0;34m\u001b[0m\u001b[0;34m\u001b[0m\u001b[0m\n\u001b[0m",
      "\u001b[0;31mModuleNotFoundError\u001b[0m: No module named 'pymongo'"
     ]
    }
   ],
   "source": [
    "from pymongo import MongoClient"
   ]
  },
  {
   "cell_type": "code",
   "execution_count": 2,
   "metadata": {},
   "outputs": [
    {
     "ename": "NameError",
     "evalue": "name 'MongoClient' is not defined",
     "output_type": "error",
     "traceback": [
      "\u001b[0;31m---------------------------------------------------------------------------\u001b[0m",
      "\u001b[0;31mNameError\u001b[0m                                 Traceback (most recent call last)",
      "\u001b[0;32m<ipython-input-2-9071d27b329d>\u001b[0m in \u001b[0;36m<module>\u001b[0;34m\u001b[0m\n\u001b[0;32m----> 1\u001b[0;31m \u001b[0mcliente\u001b[0m \u001b[0;34m=\u001b[0m \u001b[0mMongoClient\u001b[0m\u001b[0;34m(\u001b[0m\u001b[0;34m'mongodb://localhost:27017/'\u001b[0m\u001b[0;34m)\u001b[0m\u001b[0;34m\u001b[0m\u001b[0;34m\u001b[0m\u001b[0m\n\u001b[0m\u001b[1;32m      2\u001b[0m \u001b[0;34m\u001b[0m\u001b[0m\n\u001b[1;32m      3\u001b[0m \u001b[0mdb\u001b[0m \u001b[0;34m=\u001b[0m \u001b[0mcliente\u001b[0m\u001b[0;34m.\u001b[0m\u001b[0msistema\u001b[0m\u001b[0;34m\u001b[0m\u001b[0;34m\u001b[0m\u001b[0m\n\u001b[1;32m      4\u001b[0m \u001b[0;34m\u001b[0m\u001b[0m\n\u001b[1;32m      5\u001b[0m \u001b[0mprodutos\u001b[0m \u001b[0;34m=\u001b[0m \u001b[0mdb\u001b[0m\u001b[0;34m.\u001b[0m\u001b[0mprodutos\u001b[0m\u001b[0;34m\u001b[0m\u001b[0;34m\u001b[0m\u001b[0m\n",
      "\u001b[0;31mNameError\u001b[0m: name 'MongoClient' is not defined"
     ]
    }
   ],
   "source": [
    "cliente = MongoClient('mongodb://localhost:27017/')\n",
    "\n",
    "db = cliente.sistema\n",
    "\n",
    "produtos = db.produtos"
   ]
  },
  {
   "cell_type": "code",
   "execution_count": 3,
   "metadata": {},
   "outputs": [
    {
     "data": {
      "text/plain": [
       "Collection(Database(MongoClient(host=['localhost:27017'], document_class=dict, tz_aware=False, connect=True), 'sistema'), 'produtos')"
      ]
     },
     "execution_count": 3,
     "metadata": {},
     "output_type": "execute_result"
    }
   ],
   "source": [
    "produtos"
   ]
  },
  {
   "cell_type": "markdown",
   "metadata": {},
   "source": [
    "* Biblioteca que vamos utilizar pra abrir o modelo pra realizar a predicao das futuras vendas"
   ]
  },
  {
   "cell_type": "code",
   "execution_count": 4,
   "metadata": {},
   "outputs": [],
   "source": [
    "import joblib"
   ]
  },
  {
   "cell_type": "markdown",
   "metadata": {},
   "source": [
    "* Logs para acompanhar o sistema"
   ]
  },
  {
   "cell_type": "code",
   "execution_count": 5,
   "metadata": {},
   "outputs": [],
   "source": [
    "import logging\n",
    "\n",
    "logger = logging.getLogger()\n",
    "logger.setLevel(logging.DEBUG)"
   ]
  },
  {
   "cell_type": "markdown",
   "metadata": {},
   "source": [
    "* Excções personalizadas do sistema"
   ]
  },
  {
   "cell_type": "code",
   "execution_count": 6,
   "metadata": {},
   "outputs": [],
   "source": [
    "class ModeloZoado(Exception):\n",
    "    '''\n",
    "        Excecao estourada quando não se consegue importar o\n",
    "            modelo para prever as vendas.\n",
    "    '''\n",
    "    def __init__(self):\n",
    "        super().__init__(\"Seu modelo por algum motivo não pode ser importado!\")"
   ]
  },
  {
   "cell_type": "code",
   "execution_count": 7,
   "metadata": {},
   "outputs": [],
   "source": [
    "class Generica(Exception):\n",
    "    '''\n",
    "        Excecao estourada em casos genericos nao previstos pelo sistema.\n",
    "    '''\n",
    "    def __init__(self):\n",
    "        super().__init__(\"Ocorreu um erro, estamos verificando!\")"
   ]
  },
  {
   "cell_type": "markdown",
   "metadata": {},
   "source": [
    "* Classe generica para instanciar os produtos"
   ]
  },
  {
   "cell_type": "code",
   "execution_count": 8,
   "metadata": {},
   "outputs": [],
   "source": [
    "class Produto:\n",
    "    '''\n",
    "        Instância um produto a ser trabalhado no sistema de estoque.\n",
    "    '''\n",
    "    def __init__(self, _id: int, nome: str, lugar: str, tipo_pagamento: str, preco_frete: float,\n",
    "                 preco_produto: float, quantidade: int):\n",
    "        self._id = _id\n",
    "        self._nome = nome\n",
    "        self._lugar = lugar\n",
    "        self._tipo_pagamento = tipo_pagamento\n",
    "        self._preco_frete = preco_frete\n",
    "        self._preco_produto = preco_produto\n",
    "        self._quantidade = quantidade\n",
    "\n",
    "    @property\n",
    "    def nome(self) -> str:\n",
    "        ''' Retorna o nome do produto. '''\n",
    "        return self._nome\n",
    "    \n",
    "    @nome.setter\n",
    "    def nome(self, new_name: str):\n",
    "        '''\n",
    "            Altera o nome do produto\n",
    "            :new_name: novo nome\n",
    "        '''\n",
    "        self._nome = new_name\n",
    "        \n",
    "    @property\n",
    "    def lugar(self) -> str: \n",
    "        ''' Retorna o lugar onde o produto será colocado. '''\n",
    "        return self._lugar\n",
    "    \n",
    "    @lugar.setter\n",
    "    def lugar(self, new_lugar: str):\n",
    "        '''\n",
    "            Altera o lugar do produto\n",
    "            :new_lugar: novo lugar\n",
    "        '''\n",
    "        self._lugar = new_lugar\n",
    "        \n",
    "    @property\n",
    "    def tipo_pagamento(self) -> str:\n",
    "        ''' Retorna o tipo de pagamento aceito por aquele produto. '''\n",
    "        return self._tipo_pagamento\n",
    "    \n",
    "    @tipo_pagamento.setter\n",
    "    def tipo_pagamento(self, new_pag: str):\n",
    "        '''\n",
    "            Altera o tipo de pagamento do produto.\n",
    "            :new_pag: novo pagamento\n",
    "        '''\n",
    "        self._tipo_pagamento = new_pag\n",
    "        \n",
    "    @property\n",
    "    def preco_frete(self) -> float:\n",
    "        ''' Retorna o preco do frete daquele produto. '''\n",
    "        return self._preco_frete\n",
    "    \n",
    "    @preco_frete.setter\n",
    "    def preco_frete(self, new_frete: float):\n",
    "        '''\n",
    "            Altera o preco de frete do produto.\n",
    "            :new_frete: novo frete\n",
    "        '''\n",
    "        self._preco_frete = new_frete\n",
    "        \n",
    "    @property\n",
    "    def preco_produto(self) -> float:\n",
    "        ''' Retorna o preco do produto. '''\n",
    "        return self._preco_produto\n",
    "    \n",
    "    @preco_produto.setter\n",
    "    def preco_produto(self, new_preco: float):\n",
    "        '''\n",
    "            Altera o preco do produto.\n",
    "            :new_preco: novo preco\n",
    "        '''\n",
    "        self._preco_produto = new_preco\n",
    "        \n",
    "    @property\n",
    "    def quantidade(self) -> int:       \n",
    "        ''' Retorna a quantidade daquele produto. '''\n",
    "        return self._quantidade\n",
    "    \n",
    "    @quantidade.setter\n",
    "    def quantidade(self, new_qtd: int):\n",
    "        '''\n",
    "            Altera a quantidade do produto.\n",
    "            :new_qtd: nova quantidade\n",
    "        '''\n",
    "        self._quantidade = new_qtd\n",
    "    \n",
    "    def _decorator(foo):\n",
    "        ''' Decorador para a funcao de predict. '''\n",
    "        def mostra(self) :\n",
    "            print(\"Siga Rexa compras nas redes sociais e não perca as melhores ofertas!\")\n",
    "            foo(self)\n",
    "        return mostra\n",
    "    \n",
    "    @_decorator\n",
    "    def predict(self) -> str:\n",
    "        ''' \n",
    "            Realiza predição de venda baseado na quantidade do produto e no preco deles. \n",
    "            \n",
    "            O modelo foi treinado utilizando o preco do produto e a quantidade em estoque para\n",
    "                prever a venda deste produto.\n",
    "        '''\n",
    "        try:\n",
    "            logging.info('Iniciando a predicao')\n",
    "            modelo = joblib.load('estoque.joblib')\n",
    "        \n",
    "        except FileNotFoundError as error:\n",
    "            logging.warning('Excecao estourada')\n",
    "            mensagem = \"Não pudemos finalizar sua compra :( mas já estamos verificando!\"\n",
    "            raise ModeloZoado\n",
    "        \n",
    "        except Exception as error:\n",
    "            logging.warning('Excecao estourada')\n",
    "            mensagem = \"Não pudemos finalizar sua compra :( mas vamos verificar o que ocorreu!\"\n",
    "            raise Generico\n",
    "            \n",
    "        else:\n",
    "            estoque = self._quantidade\n",
    "            preco = self._preco_produto\n",
    "            input_ = [[estoque, preco]]\n",
    "            venda = modelo.predict(input_)[0]\n",
    "            logging.info('Predicao finalizada')\n",
    "            mensagem = f\"A previsão de vendas do produto {self._nome} é de {int(venda)} unidades, então corra já e garanta a sua!\"\n",
    "        \n",
    "        finally:\n",
    "            logging.info('Processo finalizado')\n",
    "            print(\"Obrigada por comprar conosco\")\n",
    "            print(mensagem)\n",
    "        return mensagem\n",
    "    \n",
    "    def __str__(self) -> str:\n",
    "        return \"O produto foi instanciado\""
   ]
  },
  {
   "cell_type": "code",
   "execution_count": 9,
   "metadata": {},
   "outputs": [],
   "source": [
    "tv = Produto(3, 'tv da sony', 'Setor A', 'Boleto', 19.0, 10.8, 2)"
   ]
  },
  {
   "cell_type": "code",
   "execution_count": 10,
   "metadata": {},
   "outputs": [
    {
     "name": "stdout",
     "output_type": "stream",
     "text": [
      "O produto foi instanciado\n"
     ]
    }
   ],
   "source": [
    "print(tv)"
   ]
  },
  {
   "cell_type": "code",
   "execution_count": 11,
   "metadata": {},
   "outputs": [
    {
     "data": {
      "text/plain": [
       "(3, 'tv da sony', 'Setor A', 'Boleto', 19.0, 10.8, 2)"
      ]
     },
     "execution_count": 11,
     "metadata": {},
     "output_type": "execute_result"
    }
   ],
   "source": [
    "tv._id, tv.nome, tv.lugar, tv.tipo_pagamento, tv.preco_frete, tv.preco_produto, tv.quantidade"
   ]
  },
  {
   "cell_type": "code",
   "execution_count": 12,
   "metadata": {},
   "outputs": [
    {
     "name": "stderr",
     "output_type": "stream",
     "text": [
      "INFO:root:Iniciando a predicao\n",
      "INFO:root:Predicao finalizada\n",
      "INFO:root:Processo finalizado\n"
     ]
    },
    {
     "name": "stdout",
     "output_type": "stream",
     "text": [
      "Siga Rexa compras nas redes sociais e não perca as melhores ofertas!\n",
      "Obrigada por comprar conosco\n",
      "A previsão de vendas do produto tv da sony é de 160 unidades, então corra já e garanta a sua!\n"
     ]
    }
   ],
   "source": [
    "tv.predict()"
   ]
  },
  {
   "cell_type": "code",
   "execution_count": 13,
   "metadata": {},
   "outputs": [],
   "source": [
    "class Sistema():\n",
    "    ''' Instancia um sistema de gencia de estoque. '''\n",
    "    def __init__(self, nome_sistema: str):\n",
    "        self._nome_sistema = nome_sistema \n",
    "        \n",
    "    @property\n",
    "    def nome_sistema(self) -> str:\n",
    "        ''' Retorna o nome do sistema. '''\n",
    "        return self._nome_sistema\n",
    "    \n",
    "    @nome_sistema.setter\n",
    "    def nome_sistema(self, new_nome: str):\n",
    "        '''\n",
    "            Altera o nome do sistema.\n",
    "            :new_name: novo nome\n",
    "        '''\n",
    "        self._nome_sistema = new_nome\n",
    "        \n",
    "    def coloca_produto(self, prod: Produto) -> str: \n",
    "        '''\n",
    "            Insere o produto no banco de dados.\n",
    "            \n",
    "            Params\n",
    "            :prod: Produto a ser inserido\n",
    "        '''\n",
    "        \n",
    "        produto = produtos.insert_one(prod.__dict__).inserted_id\n",
    "        \n",
    "        logging.info('Produto inserido no banco')\n",
    "        \n",
    "        return f'Produto: {prod._nome} inserido!'\n",
    "        \n",
    "    def mostra_prod(self, prod: Produto) -> dict:\n",
    "        '''\n",
    "            Mostra o produto no banco de dados.\n",
    "            \n",
    "            Params\n",
    "            :prod: Produto a ser mostrado\n",
    "        '''\n",
    "        logging.info('Mostrando dados do banco')\n",
    "        return produtos.find_one({\"_id\": prod._id})\n",
    "    \n",
    "    def retira_produto(self, prod: Produto):\n",
    "        '''\n",
    "            Retira o produto no banco de dados.\n",
    "            \n",
    "            Params\n",
    "            :prod: Produto a ser retirado\n",
    "        '''\n",
    "        produtos.delete_one({\"_id\": prod._id})\n",
    "        logging.info('Produto excluido no banco')\n",
    "    \n",
    "    def atualiza_produto(self, prod: Produto, attr, new_attr):\n",
    "        '''\n",
    "            Atualiza o produto no banco de dados.\n",
    "            \n",
    "            Params\n",
    "            :prod: Produto a ser atualizado\n",
    "        '''\n",
    "        produtos.update_one({'_id': prod._id}, {'$set': {attr: new_attr}})\n",
    "        logging.info('Produto atualizado')\n",
    "    \n",
    "    @staticmethod\n",
    "    def mostra_todos() -> dict:\n",
    "        ''' Mostra os produtos no banco de dados. '''\n",
    "        logging.info('Mostrando dados do banco')\n",
    "        return produtos.find()\n",
    "        \n",
    "    def __str__(self) -> str:\n",
    "        return \"O sistema foi instanciado\""
   ]
  },
  {
   "cell_type": "code",
   "execution_count": 14,
   "metadata": {},
   "outputs": [],
   "source": [
    "sis = Sistema('sistemoso')"
   ]
  },
  {
   "cell_type": "code",
   "execution_count": 15,
   "metadata": {},
   "outputs": [
    {
     "name": "stdout",
     "output_type": "stream",
     "text": [
      "O sistema foi instanciado\n"
     ]
    }
   ],
   "source": [
    "print(sis)"
   ]
  },
  {
   "cell_type": "code",
   "execution_count": 16,
   "metadata": {},
   "outputs": [
    {
     "data": {
      "text/plain": [
       "'sistemoso'"
      ]
     },
     "execution_count": 16,
     "metadata": {},
     "output_type": "execute_result"
    }
   ],
   "source": [
    "sis.nome_sistema"
   ]
  },
  {
   "cell_type": "code",
   "execution_count": 17,
   "metadata": {},
   "outputs": [
    {
     "name": "stderr",
     "output_type": "stream",
     "text": [
      "INFO:root:Produto inserido no banco\n"
     ]
    },
    {
     "data": {
      "text/plain": [
       "'Produto: tv da sony inserido!'"
      ]
     },
     "execution_count": 17,
     "metadata": {},
     "output_type": "execute_result"
    }
   ],
   "source": [
    "sis.coloca_produto(tv)"
   ]
  },
  {
   "cell_type": "code",
   "execution_count": 18,
   "metadata": {},
   "outputs": [
    {
     "name": "stderr",
     "output_type": "stream",
     "text": [
      "INFO:root:Mostrando dados do banco\n"
     ]
    },
    {
     "data": {
      "text/plain": [
       "{'_id': 3,\n",
       " '_nome': 'tv da sony',\n",
       " '_lugar': 'Setor A',\n",
       " '_tipo_pagamento': 'Boleto',\n",
       " '_preco_frete': 19.0,\n",
       " '_preco_produto': 10.8,\n",
       " '_quantidade': 2}"
      ]
     },
     "execution_count": 18,
     "metadata": {},
     "output_type": "execute_result"
    }
   ],
   "source": [
    "sis.mostra_prod(tv)"
   ]
  },
  {
   "cell_type": "code",
   "execution_count": 19,
   "metadata": {},
   "outputs": [
    {
     "name": "stderr",
     "output_type": "stream",
     "text": [
      "INFO:root:Produto atualizado\n"
     ]
    }
   ],
   "source": [
    "sis.atualiza_produto(tv, '_nome', 'Tevelisao')"
   ]
  },
  {
   "cell_type": "code",
   "execution_count": 20,
   "metadata": {},
   "outputs": [
    {
     "name": "stderr",
     "output_type": "stream",
     "text": [
      "INFO:root:Mostrando dados do banco\n"
     ]
    },
    {
     "data": {
      "text/plain": [
       "{'_id': 3,\n",
       " '_nome': 'Tevelisao',\n",
       " '_lugar': 'Setor A',\n",
       " '_tipo_pagamento': 'Boleto',\n",
       " '_preco_frete': 19.0,\n",
       " '_preco_produto': 10.8,\n",
       " '_quantidade': 2}"
      ]
     },
     "execution_count": 20,
     "metadata": {},
     "output_type": "execute_result"
    }
   ],
   "source": [
    "sis.mostra_prod(tv)"
   ]
  },
  {
   "cell_type": "code",
   "execution_count": 21,
   "metadata": {},
   "outputs": [
    {
     "name": "stderr",
     "output_type": "stream",
     "text": [
      "INFO:root:Produto excluido no banco\n"
     ]
    }
   ],
   "source": [
    "sis.retira_produto(tv)"
   ]
  },
  {
   "cell_type": "code",
   "execution_count": 22,
   "metadata": {},
   "outputs": [
    {
     "name": "stderr",
     "output_type": "stream",
     "text": [
      "INFO:root:Mostrando dados do banco\n"
     ]
    },
    {
     "data": {
      "text/plain": [
       "<pymongo.cursor.Cursor at 0x7ff65eb30828>"
      ]
     },
     "execution_count": 22,
     "metadata": {},
     "output_type": "execute_result"
    }
   ],
   "source": [
    "sis.mostra_todos()"
   ]
  },
  {
   "cell_type": "code",
   "execution_count": null,
   "metadata": {},
   "outputs": [],
   "source": []
  }
 ],
 "metadata": {
  "kernelspec": {
   "display_name": "Python 3",
   "language": "python",
   "name": "python3"
  },
  "language_info": {
   "codemirror_mode": {
    "name": "ipython",
    "version": 3
   },
   "file_extension": ".py",
   "mimetype": "text/x-python",
   "name": "python",
   "nbconvert_exporter": "python",
   "pygments_lexer": "ipython3",
   "version": "3.7.6"
  }
 },
 "nbformat": 4,
 "nbformat_minor": 4
}
