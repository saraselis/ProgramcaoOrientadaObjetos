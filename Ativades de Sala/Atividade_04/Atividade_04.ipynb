{
 "cells": [
  {
   "cell_type": "markdown",
   "metadata": {},
   "source": [
    "# Aula 04 Poo - Polimorfismo"
   ]
  },
  {
   "cell_type": "markdown",
   "metadata": {},
   "source": [
    "## Implementar o diagrama que o rato colocou no bb"
   ]
  },
  {
   "cell_type": "code",
   "execution_count": 1,
   "metadata": {},
   "outputs": [],
   "source": [
    "class Pessoa:\n",
    "    def __init__(self, nome:str, email:str, matr:str):\n",
    "        self._nome = nome\n",
    "        self._email = email\n",
    "        self._matr = matr\n",
    "        \n",
    "    @property\n",
    "    def nome(self) ->str :\n",
    "        return self._nome\n",
    "    \n",
    "    @nome.setter\n",
    "    def nome(self, nome_:str):\n",
    "        self._nome = nome_\n",
    "\n",
    "    @property\n",
    "    def email(self) -> str:\n",
    "        return self._email\n",
    "    \n",
    "    @email.setter\n",
    "    def email(self, email_:str):\n",
    "        self._email = email_\n",
    "        \n",
    "    @property\n",
    "    def matr(self) -> str:\n",
    "        return self._matr\n",
    "    \n",
    "    @matr.setter\n",
    "    def matr(self, matr_:str):\n",
    "        self._email = matr_\n",
    "        \n",
    "    def valida_matr(self, matr_:str) -> bool:\n",
    "        try:\n",
    "            if not matr_.startswith('171'):\n",
    "                raise Exception(\"Pessoa vagabunda não pode passar!\")\n",
    "        except Exception as error:\n",
    "            return False\n",
    "        \n",
    "        return True"
   ]
  },
  {
   "cell_type": "code",
   "execution_count": 2,
   "metadata": {},
   "outputs": [],
   "source": [
    "class Aluno(Pessoa):\n",
    "    def __init__(self, nome:str, email:str, matr:str, curso:str):\n",
    "        super().__init__(nome, email, matr)\n",
    "        self._curso = curso\n",
    "        \n",
    "    @property\n",
    "    def curso(self) ->str:\n",
    "        return self._curso\n",
    "    \n",
    "    @curso.setter\n",
    "    def curso(self, curso_:str):\n",
    "        self._curso = curso_"
   ]
  },
  {
   "cell_type": "code",
   "execution_count": 3,
   "metadata": {},
   "outputs": [],
   "source": [
    "class Professor(Pessoa):\n",
    "    def __init__(self, nome:str, email:str, matr:str, carga_horaria:int, disciplinas:list):\n",
    "        super().__init__(nome, email, matr)\n",
    "        self.carga_horaria = carga_horaria\n",
    "        self.disciplinas = []\n",
    "        \n",
    "        @property\n",
    "        def carga_horaria(self) -> str:\n",
    "            return self._carga_horaria\n",
    "        \n",
    "        @carga_horaria.setter\n",
    "        def carga_horaria(self, carga_horaria_:int):\n",
    "            self._carga_horaria = carga_horaria_\n",
    "        \n",
    "        @property\n",
    "        def disciplinas(self):\n",
    "            return self_disciplinas"
   ]
  },
  {
   "cell_type": "code",
   "execution_count": 4,
   "metadata": {},
   "outputs": [],
   "source": [
    "class Disciplina:\n",
    "    def __init__(self, sala:str, nome:str, alunos:list, professor:Professor):\n",
    "        self._sala = sala\n",
    "        self._nome = nome\n",
    "        self._alunos = []\n",
    "        self._professor = Professor\n",
    "    \n",
    "    @property\n",
    "    def sala(self) ->str:\n",
    "        return self._sala\n",
    "    \n",
    "    @sala.setter\n",
    "    def sala(self, sala_:str):\n",
    "        self._sala = sala_\n",
    "\n",
    "    @property\n",
    "    def nome(self) -> str:\n",
    "        return self._nome\n",
    "    \n",
    "    @nome.setter\n",
    "    def nome(self, nome_:str):\n",
    "        self._nome = nome_\n",
    "        \n",
    "    @property\n",
    "    def alunos(self) -> list:\n",
    "        return self._alunos\n",
    "    \n",
    "    @property\n",
    "    def professor(self) -> str:\n",
    "        return self._professor\n",
    "    \n",
    "    @professor.setter\n",
    "    def professor(self, professor_:str):\n",
    "        self._professor = professor_\n",
    "    \n",
    "    def adiciona_aluno(self, aluno:Aluno):\n",
    "        self._alunos.append(aluno) "
   ]
  },
  {
   "cell_type": "markdown",
   "metadata": {},
   "source": [
    "----"
   ]
  },
  {
   "cell_type": "code",
   "execution_count": 5,
   "metadata": {},
   "outputs": [],
   "source": [
    "sabrina = Aluno('sabrina', 'sassa@sassa', '1712', 'Engenharia')"
   ]
  },
  {
   "cell_type": "code",
   "execution_count": 6,
   "metadata": {},
   "outputs": [
    {
     "data": {
      "text/plain": [
       "('sabrina', 'sassa@sassa', '1712', 'Engenharia')"
      ]
     },
     "execution_count": 6,
     "metadata": {},
     "output_type": "execute_result"
    }
   ],
   "source": [
    "sabrina.nome, sabrina.email, sabrina.matr, sabrina.curso"
   ]
  },
  {
   "cell_type": "code",
   "execution_count": 7,
   "metadata": {},
   "outputs": [
    {
     "data": {
      "text/plain": [
       "True"
      ]
     },
     "execution_count": 7,
     "metadata": {},
     "output_type": "execute_result"
    }
   ],
   "source": [
    "sabrina.valida_matr('1712082018')"
   ]
  },
  {
   "cell_type": "code",
   "execution_count": 8,
   "metadata": {},
   "outputs": [
    {
     "data": {
      "text/plain": [
       "False"
      ]
     },
     "execution_count": 8,
     "metadata": {},
     "output_type": "execute_result"
    }
   ],
   "source": [
    "sabrina.valida_matr('666')"
   ]
  },
  {
   "cell_type": "markdown",
   "metadata": {},
   "source": [
    "----"
   ]
  },
  {
   "cell_type": "code",
   "execution_count": 9,
   "metadata": {},
   "outputs": [],
   "source": [
    "thiago = Professor('Thiago', 'thiago@barbudo', '777', 60, [])"
   ]
  },
  {
   "cell_type": "code",
   "execution_count": 10,
   "metadata": {},
   "outputs": [
    {
     "data": {
      "text/plain": [
       "('Thiago', 'thiago@barbudo', '777', 60, [])"
      ]
     },
     "execution_count": 10,
     "metadata": {},
     "output_type": "execute_result"
    }
   ],
   "source": [
    "thiago.nome, thiago.email, thiago.matr, thiago.carga_horaria, thiago.disciplinas"
   ]
  },
  {
   "cell_type": "code",
   "execution_count": 11,
   "metadata": {},
   "outputs": [
    {
     "data": {
      "text/plain": [
       "True"
      ]
     },
     "execution_count": 11,
     "metadata": {},
     "output_type": "execute_result"
    }
   ],
   "source": [
    "thiago.valida_matr('1712082018')"
   ]
  },
  {
   "cell_type": "code",
   "execution_count": 12,
   "metadata": {},
   "outputs": [
    {
     "data": {
      "text/plain": [
       "False"
      ]
     },
     "execution_count": 12,
     "metadata": {},
     "output_type": "execute_result"
    }
   ],
   "source": [
    "thiago.valida_matr('2082018')"
   ]
  },
  {
   "cell_type": "markdown",
   "metadata": {},
   "source": [
    "----"
   ]
  },
  {
   "cell_type": "code",
   "execution_count": 13,
   "metadata": {},
   "outputs": [],
   "source": [
    "sistemas = Disciplina('Lab 2', 'Sistemas', [], thiago)"
   ]
  },
  {
   "cell_type": "code",
   "execution_count": 14,
   "metadata": {},
   "outputs": [
    {
     "data": {
      "text/plain": [
       "('Lab 2', 'Sistemas', [], <property at 0x7fcab0132278>)"
      ]
     },
     "execution_count": 14,
     "metadata": {},
     "output_type": "execute_result"
    }
   ],
   "source": [
    "sistemas.sala, sistemas.nome, sistemas.alunos, sistemas.professor.nome"
   ]
  },
  {
   "cell_type": "code",
   "execution_count": 15,
   "metadata": {},
   "outputs": [],
   "source": [
    "sistemas.adiciona_aluno(sabrina)"
   ]
  },
  {
   "cell_type": "code",
   "execution_count": 16,
   "metadata": {},
   "outputs": [
    {
     "data": {
      "text/plain": [
       "'sabrina'"
      ]
     },
     "execution_count": 16,
     "metadata": {},
     "output_type": "execute_result"
    }
   ],
   "source": [
    "sistemas.alunos[0].nome"
   ]
  },
  {
   "cell_type": "code",
   "execution_count": null,
   "metadata": {},
   "outputs": [],
   "source": []
  }
 ],
 "metadata": {
  "kernelspec": {
   "display_name": "Python 3",
   "language": "python",
   "name": "python3"
  },
  "language_info": {
   "codemirror_mode": {
    "name": "ipython",
    "version": 3
   },
   "file_extension": ".py",
   "mimetype": "text/x-python",
   "name": "python",
   "nbconvert_exporter": "python",
   "pygments_lexer": "ipython3",
   "version": "3.6.9"
  }
 },
 "nbformat": 4,
 "nbformat_minor": 4
}
