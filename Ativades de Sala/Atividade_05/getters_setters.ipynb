{
 "cells": [
  {
   "cell_type": "markdown",
   "metadata": {},
   "source": [
    "# Atividade 5 - POO - A2\n",
    "## Getters e Setters"
   ]
  },
  {
   "cell_type": "code",
   "execution_count": 264,
   "metadata": {},
   "outputs": [],
   "source": [
    "class Estado:\n",
    "    '''\n",
    "        Essa classe instancia um estado com nome, quantidade de habitantes e pib.\n",
    "            Alem disso, também calcula a renda per capita deste estado\n",
    "    '''\n",
    "    def __init__(self, nome: str, habitantes: int, pib: float):\n",
    "        self._nome = nome\n",
    "        self._habitantes = habitantes\n",
    "        self._pib = pib\n",
    "        \n",
    "        def __str__(self) -> str:\n",
    "            return f\"O estado {self._nome} foi instanciado!\"\n",
    "        \n",
    "    @property\n",
    "    def nome(self) -> str:\n",
    "        '''\n",
    "            Return\n",
    "            ----\n",
    "            nome: nome do estado\n",
    "        '''\n",
    "        return self._nome\n",
    "\n",
    "    @nome.setter\n",
    "    def nome(self, value: str):\n",
    "        '''\n",
    "            Params\n",
    "            ----\n",
    "            value: novo nome do estado\n",
    "        '''\n",
    "        self._nome = value\n",
    "\n",
    "    @property\n",
    "    def habitantes(self) -> int:\n",
    "        '''\n",
    "            Return\n",
    "            ----\n",
    "            habitantes: habitantes do estado\n",
    "        '''\n",
    "        return self._habitantes\n",
    "\n",
    "    @habitantes.setter\n",
    "    def habitantes(self, value: int):\n",
    "        '''\n",
    "            Params\n",
    "            ----\n",
    "            value: nova quantidade de habitantes\n",
    "        '''\n",
    "        self._habitantes = value\n",
    "\n",
    "    @property\n",
    "    def pib(self) -> float:\n",
    "        '''\n",
    "            Return\n",
    "            ----\n",
    "            pib: pib do estado\n",
    "        '''\n",
    "        return self._pib\n",
    "\n",
    "    @pib.setter\n",
    "    def pib(self, value: float):\n",
    "        '''\n",
    "            Params\n",
    "            ----\n",
    "            value: novo pib do estado\n",
    "        '''\n",
    "        self._pib = value\n",
    "\n",
    "    def _decorator(foo):\n",
    "        '''\n",
    "            Decorador para a funcao que calcula renda per capita\n",
    "        '''\n",
    "        def mostra(self) :\n",
    "            print(\"É importante conhecer o Pib dos estados de seu país!\")\n",
    "            print(\"Mas também é importante saber a renda per capita dos estados e sua distribuicao.\")\n",
    "            foo(self)\n",
    "        return mostra\n",
    "        \n",
    "    @_decorator\n",
    "    def pib_percapita(self):\n",
    "        per_cap = self._pib / self._habitantes\n",
    "        print(f\"A renda Per capta de {self._nome} é {per_cap}\")\n",
    "        return per_cap\n",
    "        "
   ]
  },
  {
   "cell_type": "markdown",
   "metadata": {},
   "source": [
    "----"
   ]
  },
  {
   "cell_type": "code",
   "execution_count": 265,
   "metadata": {},
   "outputs": [],
   "source": [
    "mg = Estado('Minas', 1000, 5000)"
   ]
  },
  {
   "cell_type": "code",
   "execution_count": 266,
   "metadata": {},
   "outputs": [
    {
     "name": "stdout",
     "output_type": "stream",
     "text": [
      "Minas\n"
     ]
    }
   ],
   "source": [
    "print(mg.nome)"
   ]
  },
  {
   "cell_type": "markdown",
   "metadata": {},
   "source": [
    "----"
   ]
  },
  {
   "cell_type": "code",
   "execution_count": 267,
   "metadata": {},
   "outputs": [],
   "source": [
    "mg.nome = 'Minas Gerais'"
   ]
  },
  {
   "cell_type": "code",
   "execution_count": 268,
   "metadata": {},
   "outputs": [
    {
     "name": "stdout",
     "output_type": "stream",
     "text": [
      "Minas Gerais\n"
     ]
    }
   ],
   "source": [
    "print(mg.nome)"
   ]
  },
  {
   "cell_type": "markdown",
   "metadata": {},
   "source": [
    "----"
   ]
  },
  {
   "cell_type": "code",
   "execution_count": 269,
   "metadata": {},
   "outputs": [],
   "source": [
    "mg.habitantes = 8000"
   ]
  },
  {
   "cell_type": "code",
   "execution_count": 270,
   "metadata": {},
   "outputs": [
    {
     "name": "stdout",
     "output_type": "stream",
     "text": [
      "8000\n"
     ]
    }
   ],
   "source": [
    "print(mg.habitantes)"
   ]
  },
  {
   "cell_type": "markdown",
   "metadata": {},
   "source": [
    "----"
   ]
  },
  {
   "cell_type": "code",
   "execution_count": 271,
   "metadata": {},
   "outputs": [],
   "source": [
    "mg.pib = 1000000"
   ]
  },
  {
   "cell_type": "code",
   "execution_count": 272,
   "metadata": {},
   "outputs": [
    {
     "name": "stdout",
     "output_type": "stream",
     "text": [
      "1000000\n"
     ]
    }
   ],
   "source": [
    "print(mg.pib)"
   ]
  },
  {
   "cell_type": "markdown",
   "metadata": {},
   "source": [
    "----"
   ]
  },
  {
   "cell_type": "code",
   "execution_count": 273,
   "metadata": {},
   "outputs": [
    {
     "name": "stdout",
     "output_type": "stream",
     "text": [
      "É importante conhecer o Pib dos estados de seu país!\n",
      "Mas também é importante saber a renda per capita dos estados e sua distribuicao.\n",
      "A renda Per capta de Minas Gerais é 125.0\n"
     ]
    }
   ],
   "source": [
    "mg.pib_percapita()"
   ]
  },
  {
   "cell_type": "code",
   "execution_count": null,
   "metadata": {},
   "outputs": [],
   "source": []
  },
  {
   "cell_type": "code",
   "execution_count": null,
   "metadata": {},
   "outputs": [],
   "source": []
  }
 ],
 "metadata": {
  "kernelspec": {
   "display_name": "Python 3",
   "language": "python",
   "name": "python3"
  },
  "language_info": {
   "codemirror_mode": {
    "name": "ipython",
    "version": 3
   },
   "file_extension": ".py",
   "mimetype": "text/x-python",
   "name": "python",
   "nbconvert_exporter": "python",
   "pygments_lexer": "ipython3",
   "version": "3.6.9"
  }
 },
 "nbformat": 4,
 "nbformat_minor": 4
}
