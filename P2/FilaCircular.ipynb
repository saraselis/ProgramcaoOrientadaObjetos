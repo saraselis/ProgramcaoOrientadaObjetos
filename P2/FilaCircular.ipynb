{
  "nbformat": 4,
  "nbformat_minor": 0,
  "metadata": {
    "colab": {
      "name": "FilaCircular.ipynb",
      "provenance": []
    },
    "kernelspec": {
      "name": "python3",
      "display_name": "Python 3"
    }
  },
  "cells": [
    {
      "cell_type": "markdown",
      "metadata": {
        "id": "ZDZZI1hJJ3s7",
        "colab_type": "text"
      },
      "source": [
        "# Implemtacao Fila Circular\n",
        "## P2 - POO"
      ]
    },
    {
      "cell_type": "markdown",
      "metadata": {
        "id": "BCLVUavpJ8GW",
        "colab_type": "text"
      },
      "source": [
        "Tratamento de excecao para lista vazia"
      ]
    },
    {
      "cell_type": "code",
      "metadata": {
        "id": "7qbjqzruJqXa",
        "colab_type": "code",
        "colab": {}
      },
      "source": [
        "class EmptyLinkedList(Exception):\n",
        "    def __init__(self):\n",
        "        super().__init__('Lista vazia para de burrice')"
      ],
      "execution_count": 4,
      "outputs": []
    },
    {
      "cell_type": "markdown",
      "metadata": {
        "id": "FL5UP358J_of",
        "colab_type": "text"
      },
      "source": [
        "Classe aluno que será Inserido na Fila"
      ]
    },
    {
      "cell_type": "code",
      "metadata": {
        "id": "dvmA4sRFJ3aG",
        "colab_type": "code",
        "colab": {}
      },
      "source": [
        "class Aluno:\n",
        "    def __init__(self, nome: str, nota: float):\n",
        "        self._nome = nome\n",
        "        self._nota = nota\n",
        "        self._prox = None\n",
        "\n",
        "    def __repr__(self):\n",
        "        '''Representacao do aluno'''\n",
        "        return f'{self._nome}:{self._nota}'\n",
        "\n",
        "    def __lt__(self, outro_aluno):\n",
        "        return self._nota < outro_aluno._nota\n",
        "    \n",
        "    def __gt__(self, outro_aluno):\n",
        "        return self._nota > outro_aluno._nota\n",
        "\n",
        "    @property\n",
        "    def prox(self):\n",
        "        return self._prox\n",
        "    \n",
        "    @prox.setter\n",
        "    def prox(self, prox):\n",
        "        self._prox = prox\n",
        "    \n",
        "    @property\n",
        "    def nome(self) -> str:\n",
        "        return self._nome\n",
        "    \n",
        "    @nome.setter\n",
        "    def nome(self, nome: str):\n",
        "        self._nome = nome\n",
        "        \n",
        "    @property\n",
        "    def nota(self) -> str:\n",
        "        return self._nota\n",
        "    \n",
        "    @nota.setter\n",
        "    def nota(self, nota:float):\n",
        "        self._nota = nota\n",
        "    "
      ],
      "execution_count": 5,
      "outputs": []
    },
    {
      "cell_type": "code",
      "metadata": {
        "id": "0_lFz_-iJxFX",
        "colab_type": "code",
        "colab": {}
      },
      "source": [
        "class No:\n",
        "    def __init__(self, aluno=None, prox = None):\n",
        "        self.aluno = aluno\n",
        "        self.prox = prox"
      ],
      "execution_count": 6,
      "outputs": []
    },
    {
      "cell_type": "markdown",
      "metadata": {
        "id": "LvruoxRqKF_f",
        "colab_type": "text"
      },
      "source": [
        "Implementacao da Fila Circular"
      ]
    },
    {
      "cell_type": "code",
      "metadata": {
        "id": "DwK_ntx9KDJJ",
        "colab_type": "code",
        "colab": {}
      },
      "source": [
        "class Circular:\n",
        "    def __init__(self, inicio=None, fim=None):\n",
        "        self.inicio = inicio\n",
        "        self.fim = fim\n",
        "        \n",
        "    def show_fila(self):\n",
        "        '''Printa a fila'''\n",
        "        # primeiro nó\n",
        "        atual = self.inicio\n",
        "        \n",
        "        # o tamanho maximo que nosso nó deverá ir\n",
        "        while atual.prox:\n",
        "            print(atual.aluno)\n",
        "            atual = atual.prox\n",
        "            \n",
        "            # finaliza o percorrimento\n",
        "            if atual == self.inicio:\n",
        "                break\n",
        "    \n",
        "    def insere_fim(self, aluno:Aluno):\n",
        "        '''Insere um aluno ao fim da Fila'''\n",
        "        novo_aluno = No(aluno)\n",
        "        \n",
        "        # se a lista estiver vazia\n",
        "        if self.inicio == None:\n",
        "            self.inicio = novo_aluno\n",
        "            self.inicio.prox = novo_aluno\n",
        "            self.fim = novo_aluno\n",
        "            \n",
        "            return \n",
        "        \n",
        "        # se a lista não estiver vazia\n",
        "        if self.fim != None:\n",
        "            self.fim.prox = novo_aluno\n",
        "            novo_aluno.prox = self.inicio\n",
        "            self.fim = novo_aluno\n",
        "            return \n",
        "        \n",
        "    def insere_inicio(self, aluno:Aluno):\n",
        "        '''Insere um aluno no inicio da fila'''\n",
        "        novo_aluno = No(aluno)\n",
        "        novo_aluno.prox = self.inicio\n",
        "        atual = self.inicio\n",
        "        \n",
        "        # lista vazia\n",
        "        if atual == None:\n",
        "            self.inicio = novo_aluno\n",
        "            self.fim = novo_aluno\n",
        "            self.inicio.prox = novo_aluno\n",
        "            return\n",
        "        \n",
        "        # lista não está vazia\n",
        "        if self.fim != None:\n",
        "            self.fim.prox = novo_aluno\n",
        "            novo_aluno.prox = self.inicio\n",
        "            self.inicio = novo_aluno\n",
        "            return\n",
        "    \n",
        "    def insere_mei(self, ref_aluno, aluno:Aluno):\n",
        "        '''Insere no meio a partir de uma posicao estipulada'''\n",
        "        # verifica vazia\n",
        "        if ref_aluno == None:\n",
        "            raise EmptyLinkedList\n",
        "            \n",
        "        # se o nó é igual ao ultimo, usar a funcao de inserir no final\n",
        "        if ref_aluno == self.fim:\n",
        "            self.insere_fim(aluno)\n",
        "            \n",
        "        # inserindo na posicao desejada\n",
        "        novo_aluno = No(aluno)\n",
        "        ref_prox = ref_aluno.prox\n",
        "        ref_aluno.prox = novo_aluno\n",
        "        novo_aluno.prox = ref_prox\n",
        "        \n",
        "    def deleta_inicio(self):\n",
        "        '''Deleta o Aluno ao inicio da Fila'''\n",
        "        # se tiver algo na lista \n",
        "        if self.inicio != None:\n",
        "            # Pegar o prox elemento \n",
        "            temp = self.inicio.prox\n",
        "            \n",
        "            self.fim.prox = temp\n",
        "            \n",
        "            # setar o inicio\n",
        "            self.inicio = temp\n",
        "\n",
        "        else:\n",
        "            raise EmptyLinkedList\n",
        "      \n",
        "    def deleta_fim(self):\n",
        "        '''Deleta o aluno ao fim da Fila'''\n",
        "        # se tiver algo na lista \n",
        "        if self.inicio != None:\n",
        "            atual = self.inicio\n",
        "            \n",
        "           #percorre até o nó, verifica se os proximos nós são diferentes do inicial\n",
        "            while atual.prox.prox != self.inicio:\n",
        "                atual = atual.prox\n",
        "                \n",
        "            # pegando o final\n",
        "            self.fim = atual\n",
        "            \n",
        "            # recupera o ultimo nó\n",
        "            atual.prox = self.inicio\n",
        "            \n",
        "        else:\n",
        "            raise EmptyLinkedList\n",
        "    \n",
        "    def deleta_mei(self, posi):\n",
        "        '''Deleta o aluno no meio da lista a partir de uma posicao estipulada'''\n",
        "        # if position is 0 e vamos deletar o primeo\n",
        "        print(f\"Posicao escolhida: {posi}\")\n",
        "        if posi == 0:\n",
        "            print(\"entrei aq\")\n",
        "            self.deleta_inicio()\n",
        "            return\n",
        "        \n",
        "        if posi == self.len_fila() - 1:\n",
        "            \n",
        "            self.deleta_fim()\n",
        "            return \n",
        "        \n",
        "        if posi >= self.len_fila() -1 :\n",
        "            print(f\"Tamanho da fila: {self.len_fila()}\")  \n",
        "            posi = posi % (self.len_fila() -1)\n",
        "            \n",
        "        # pegando o novo primeiro nó\n",
        "        atual = self.inicio.prox\n",
        "        \n",
        "        # percorrendo até aposicao\n",
        "        cont = 0\n",
        "        \n",
        "        while cont <= posi:\n",
        "            cont = cont + 1\n",
        "            atual = atual.prox\n",
        "\n",
        "        atual.prox = atual.prox.prox\n",
        "        \n",
        "    def len_fila(self):\n",
        "        '''Pega o tamanho da fila'''\n",
        "        # pega o primeiro nó\n",
        "        atual = self.inicio\n",
        "        cont =0\n",
        "        \n",
        "        while atual.prox:\n",
        "            cont += 1\n",
        "            #percorre até o nó novamente\n",
        "            atual = atual.prox\n",
        "\n",
        "            #encerra o loop pois chegamos ao primeiro nó\n",
        "            if atual == self.inicio:\n",
        "                break\n",
        "        return cont\n",
        "    \n",
        "    def __str__(self):\n",
        "        return \"Lista circular referenciada com sucesso\""
      ],
      "execution_count": 44,
      "outputs": []
    },
    {
      "cell_type": "code",
      "metadata": {
        "id": "E9OPDFhwKHnL",
        "colab_type": "code",
        "colab": {
          "base_uri": "https://localhost:8080/",
          "height": 34
        },
        "outputId": "279f9d9c-fb1e-4b90-b72c-a4dc2eac832a"
      },
      "source": [
        "lista_circular = Circular()\n",
        "print(lista_circular)"
      ],
      "execution_count": 45,
      "outputs": [
        {
          "output_type": "stream",
          "text": [
            "Lista circular referenciada com sucesso\n"
          ],
          "name": "stdout"
        }
      ]
    },
    {
      "cell_type": "code",
      "metadata": {
        "id": "XtoU2ukXKJ_r",
        "colab_type": "code",
        "colab": {
          "base_uri": "https://localhost:8080/",
          "height": 34
        },
        "outputId": "d16ee9f7-9213-40fb-b7f2-bf9ccaccef26"
      },
      "source": [
        "print(\"Inserindo alunos\")\n",
        "lista_circular.insere_fim(Aluno('Sara', 9.8))\n",
        "lista_circular.insere_fim(Aluno('Lucas', 7.8))\n",
        "lista_circular.insere_inicio(Aluno('Sabrina', 8.8))"
      ],
      "execution_count": 46,
      "outputs": [
        {
          "output_type": "stream",
          "text": [
            "Inserindo alunos\n"
          ],
          "name": "stdout"
        }
      ]
    },
    {
      "cell_type": "code",
      "metadata": {
        "id": "6DZnd7JJKLTL",
        "colab_type": "code",
        "colab": {
          "base_uri": "https://localhost:8080/",
          "height": 68
        },
        "outputId": "de0fb3e7-0ac0-4e4c-bb52-514427a1d783"
      },
      "source": [
        "lista_circular.show_fila()"
      ],
      "execution_count": 47,
      "outputs": [
        {
          "output_type": "stream",
          "text": [
            "Sabrina:8.8\n",
            "Sara:9.8\n",
            "Lucas:7.8\n"
          ],
          "name": "stdout"
        }
      ]
    },
    {
      "cell_type": "code",
      "metadata": {
        "id": "yz9u_X1IKMss",
        "colab_type": "code",
        "colab": {
          "base_uri": "https://localhost:8080/",
          "height": 102
        },
        "outputId": "989ba49d-7d16-413c-801b-b59e4e4e2767"
      },
      "source": [
        "print(\"Inserindo aluno no meio\")\n",
        "first_node = lista_circular.inicio\n",
        "lista_circular.insere_mei(first_node, Aluno('Olaf', 2.0))\n",
        "\n",
        "lista_circular.show_fila()"
      ],
      "execution_count": 48,
      "outputs": [
        {
          "output_type": "stream",
          "text": [
            "Inserindo aluno no meio\n",
            "Sabrina:8.8\n",
            "Olaf:2.0\n",
            "Sara:9.8\n",
            "Lucas:7.8\n"
          ],
          "name": "stdout"
        }
      ]
    },
    {
      "cell_type": "code",
      "metadata": {
        "id": "sp7-mAawKOFJ",
        "colab_type": "code",
        "colab": {
          "base_uri": "https://localhost:8080/",
          "height": 34
        },
        "outputId": "1e22be2c-9bc3-41f3-e607-d7b2f896e732"
      },
      "source": [
        "print(\"Deletando no inicio\")\n",
        "lista_circular.deleta_inicio()"
      ],
      "execution_count": 49,
      "outputs": [
        {
          "output_type": "stream",
          "text": [
            "Deletando no inicio\n"
          ],
          "name": "stdout"
        }
      ]
    },
    {
      "cell_type": "code",
      "metadata": {
        "id": "MXb37uqDKQag",
        "colab_type": "code",
        "colab": {
          "base_uri": "https://localhost:8080/",
          "height": 68
        },
        "outputId": "3a3eb449-27ff-43fc-bf4d-2add08f1ab81"
      },
      "source": [
        "lista_circular.show_fila()"
      ],
      "execution_count": 50,
      "outputs": [
        {
          "output_type": "stream",
          "text": [
            "Olaf:2.0\n",
            "Sara:9.8\n",
            "Lucas:7.8\n"
          ],
          "name": "stdout"
        }
      ]
    },
    {
      "cell_type": "code",
      "metadata": {
        "id": "iFgK8HZsKRx8",
        "colab_type": "code",
        "colab": {
          "base_uri": "https://localhost:8080/",
          "height": 34
        },
        "outputId": "43d1cdc6-2c22-4bd8-f03f-d30acbd0c996"
      },
      "source": [
        "print(\"Deletando no final\")\n",
        "lista_circular.deleta_fim()"
      ],
      "execution_count": 51,
      "outputs": [
        {
          "output_type": "stream",
          "text": [
            "Deletando no final\n"
          ],
          "name": "stdout"
        }
      ]
    },
    {
      "cell_type": "code",
      "metadata": {
        "id": "NeARsjueKS-9",
        "colab_type": "code",
        "colab": {
          "base_uri": "https://localhost:8080/",
          "height": 51
        },
        "outputId": "5b2f1e36-c7a3-439d-fca4-5b5b0820f323"
      },
      "source": [
        "lista_circular.show_fila()"
      ],
      "execution_count": 52,
      "outputs": [
        {
          "output_type": "stream",
          "text": [
            "Olaf:2.0\n",
            "Sara:9.8\n"
          ],
          "name": "stdout"
        }
      ]
    },
    {
      "cell_type": "code",
      "metadata": {
        "id": "G9hEBF0oKUgN",
        "colab_type": "code",
        "colab": {
          "base_uri": "https://localhost:8080/",
          "height": 68
        },
        "outputId": "71643219-89f5-4b92-81a6-c4d0ed67a2b1"
      },
      "source": [
        "print(\"Deletando no meio a partir de uma posicao\")\n",
        "lista_circular.deleta_mei(7)"
      ],
      "execution_count": 53,
      "outputs": [
        {
          "output_type": "stream",
          "text": [
            "Deletando no meio a partir de uma posicao\n",
            "Posicao escolhida: 7\n",
            "Tamanho da fila: 2\n"
          ],
          "name": "stdout"
        }
      ]
    },
    {
      "cell_type": "code",
      "metadata": {
        "id": "9i37IMVAKWUq",
        "colab_type": "code",
        "colab": {
          "base_uri": "https://localhost:8080/",
          "height": 34
        },
        "outputId": "153b7c88-1164-4a3f-c7e9-bec4aec965cf"
      },
      "source": [
        "lista_circular.show_fila()"
      ],
      "execution_count": 54,
      "outputs": [
        {
          "output_type": "stream",
          "text": [
            "Olaf:2.0\n"
          ],
          "name": "stdout"
        }
      ]
    },
    {
      "cell_type": "code",
      "metadata": {
        "id": "C73W6H45KX9q",
        "colab_type": "code",
        "colab": {}
      },
      "source": [
        ""
      ],
      "execution_count": null,
      "outputs": []
    }
  ]
}