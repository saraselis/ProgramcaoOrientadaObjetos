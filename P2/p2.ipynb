{
 "cells": [
  {
   "cell_type": "markdown",
   "metadata": {},
   "source": [
    "# Implemtacao Fila Circular\n",
    "## P2 - POO"
   ]
  },
  {
   "cell_type": "markdown",
   "metadata": {},
   "source": [
    "Tratamento de excecao para lista vazia"
   ]
  },
  {
   "cell_type": "code",
   "execution_count": 80,
   "metadata": {},
   "outputs": [],
   "source": [
    "class EmptyLinkedList(Exception):\n",
    "    def __init__(self):\n",
    "        super().__init__('Lista vazia para de burrice')"
   ]
  },
  {
   "cell_type": "markdown",
   "metadata": {},
   "source": [
    "Classe aluno que será Inserido na Fila"
   ]
  },
  {
   "cell_type": "code",
   "execution_count": 81,
   "metadata": {},
   "outputs": [],
   "source": [
    "class Aluno:\n",
    "    def __init__(self, nome: str, nota: float):\n",
    "        self._nome = nome\n",
    "        self._nota = nota\n",
    "        self._prox = None\n",
    "\n",
    "    def __repr__(self):\n",
    "        '''Representacao do aluno'''\n",
    "        return f'{self._nome}:{self._nota}'\n",
    "\n",
    "    def __lt__(self, outro_aluno):\n",
    "        return self._nota < outro_aluno._nota\n",
    "    \n",
    "    def __gt__(self, outro_aluno):\n",
    "        return self._nota > outro_aluno._nota\n",
    "\n",
    "    @property\n",
    "    def prox(self):\n",
    "        return self._prox\n",
    "    \n",
    "    @prox.setter\n",
    "    def prox(self, prox):\n",
    "        self._prox = prox\n",
    "    \n",
    "    @property\n",
    "    def nome(self) -> str:\n",
    "        return self._nome\n",
    "    \n",
    "    @nome.setter\n",
    "    def nome(self, nome: str):\n",
    "        self._nome = nome\n",
    "        \n",
    "    @property\n",
    "    def nota(self) -> str:\n",
    "        return self._nota\n",
    "    \n",
    "    @nota.setter\n",
    "    def nota(self, nota:float):\n",
    "        self._nota = nota\n",
    "    "
   ]
  },
  {
   "cell_type": "code",
   "execution_count": 82,
   "metadata": {},
   "outputs": [],
   "source": [
    "class No:\n",
    "    def __init__(self, aluno=None, prox = None):\n",
    "        self.aluno = aluno\n",
    "        self.prox = prox"
   ]
  },
  {
   "cell_type": "markdown",
   "metadata": {},
   "source": [
    "Implementacao da Fila Circular"
   ]
  },
  {
   "cell_type": "code",
   "execution_count": 83,
   "metadata": {},
   "outputs": [],
   "source": [
    "class Circular:\n",
    "    def __init__(self, inicio=None, fim=None):\n",
    "        self.inicio = inicio\n",
    "        self.fim = fim\n",
    "        \n",
    "    def show_fila(self):\n",
    "        '''Printa a fila'''\n",
    "        # primeiro nó\n",
    "        atual = self.inicio\n",
    "        \n",
    "        # o tamanho maximo que nosso nó deverá ir\n",
    "        while atual.prox:\n",
    "            print(atual.aluno)\n",
    "            atual = atual.prox\n",
    "            \n",
    "            # finaliza o percorrimento\n",
    "            if atual == self.inicio:\n",
    "                break\n",
    "    \n",
    "    def insere_fim(self, aluno:Aluno):\n",
    "        '''Insere um aluno ao fim da Fila'''\n",
    "        novo_aluno = No(aluno)\n",
    "        \n",
    "        # se a lista estiver vazia\n",
    "        if self.inicio == None:\n",
    "            self.inicio = novo_aluno\n",
    "            self.inicio.prox = novo_aluno\n",
    "            self.fim = novo_aluno\n",
    "            \n",
    "            return \n",
    "        \n",
    "        # se a lista não estiver vazia\n",
    "        if self.fim != None:\n",
    "            self.fim.prox = novo_aluno\n",
    "            novo_aluno.prox = self.inicio\n",
    "            self.fim = novo_aluno\n",
    "            return \n",
    "        \n",
    "    def insere_inicio(self, aluno:Aluno):\n",
    "        '''Insere um aluno no inicio da fila'''\n",
    "        novo_aluno = No(aluno)\n",
    "        novo_aluno.prox = self.inicio\n",
    "        atual = self.inicio\n",
    "        \n",
    "        # lista vazia\n",
    "        if atual == None:\n",
    "            self.inicio = novo_aluno\n",
    "            self.fim = novo_aluno\n",
    "            self.inicio.prox = novo_aluno\n",
    "            return\n",
    "        \n",
    "        # lista não está vazia\n",
    "        if self.fim != None:\n",
    "            self.fim.prox = novo_aluno\n",
    "            novo_aluno.prox = self.inicio\n",
    "            self.inicio = novo_aluno\n",
    "            return\n",
    "    \n",
    "    def insere_mei(self, ref_aluno, aluno:Aluno):\n",
    "        '''Insere no meio a partir de uma posicao estipulada'''\n",
    "        # verifica vazia\n",
    "        if ref_aluno == None:\n",
    "            raise EmptyLinkedList\n",
    "            \n",
    "        # se o nó é igual ao ultimo, usar a funcao de inserir no final\n",
    "        if ref_aluno == self.fim:\n",
    "            self.insere_fim(aluno)\n",
    "            \n",
    "        # inserindo na posicao desejada\n",
    "        novo_aluno = No(aluno)\n",
    "        ref_prox = ref_aluno.prox\n",
    "        ref_aluno.prox = novo_aluno\n",
    "        novo_aluno.prox = ref_prox\n",
    "        \n",
    "    def deleta_inicio(self):\n",
    "        '''Deleta o Aluno ao inicio da Fila'''\n",
    "        # se tiver algo na lista \n",
    "        if self.inicio != None:\n",
    "            # Pegar o prox elemento \n",
    "            temp = self.inicio.prox\n",
    "            \n",
    "            self.fim.prox = temp\n",
    "            \n",
    "            # setar o inicio\n",
    "            self.inicio = temp\n",
    "\n",
    "        else:\n",
    "            raise EmptyLinkedList\n",
    "      \n",
    "    def deleta_fim(self):\n",
    "        '''Deleta o aluno ao fim da Fila'''\n",
    "        # se tiver algo na lista \n",
    "        if self.inicio != None:\n",
    "            atual = self.inicio\n",
    "            \n",
    "           #percorre até o nó, verifica se os proximos nós são diferentes do inicial\n",
    "            while atual.prox.prox != self.inicio:\n",
    "                atual = atual.prox\n",
    "                \n",
    "            # pegando o final\n",
    "            self.fim = atual\n",
    "            \n",
    "            # recupera o ultimo nó\n",
    "            atual.prox = self.inicio\n",
    "            \n",
    "        else:\n",
    "            raise EmptyLinkedList\n",
    "    \n",
    "    def deleta_mei(self, posi):\n",
    "        '''Deleta o aluno no meio da lista a partir de uma posicao estipulada'''\n",
    "        # if position is 0 e vamos deletar o primeo\n",
    "        print(posi)\n",
    "        if posi == 0:\n",
    "            print(\"entrei aq\")\n",
    "            self.deleta_inicio()\n",
    "            return\n",
    "        \n",
    "        if posi == self.len_fila() - 1:\n",
    "            \n",
    "            self.deleta_fim()\n",
    "            return \n",
    "        \n",
    "        if posi >= self.len_fila() -1 :\n",
    "            print(self.len_fila())  \n",
    "            posi = posi % (self.len_fila() -1)\n",
    "            \n",
    "        # pegando o novo primeiro nó\n",
    "        atual = self.inicio.prox\n",
    "        \n",
    "        # percorrendo até aposicao\n",
    "        cont = 0\n",
    "        \n",
    "        while cont <= posi:\n",
    "            cont = cont + 1\n",
    "            atual = atual.prox\n",
    "            \n",
    "            \n",
    "        atual.prox = atual.prox.prox\n",
    "        \n",
    "    def len_fila(self):\n",
    "        '''Pega o tamanho da fila'''\n",
    "        # pega o primeiro nó\n",
    "        atual = self.inicio\n",
    "        cont =0\n",
    "        \n",
    "        while atual.prox:\n",
    "            cont += 1\n",
    "            #percorre até o nó novamente\n",
    "            atual = atual.prox\n",
    "\n",
    "            #encerra o loop pois chegamos ao primeiro nó\n",
    "            if atual == self.inicio:\n",
    "                break\n",
    "        return cont\n",
    "    \n",
    "    def __str__(self):\n",
    "        return \"Lista circular referenciada com sucesso\""
   ]
  },
  {
   "cell_type": "code",
   "execution_count": 84,
   "metadata": {},
   "outputs": [
    {
     "name": "stdout",
     "output_type": "stream",
     "text": [
      "Lista circular referenciada com sucesso\n"
     ]
    }
   ],
   "source": [
    "lista_circular = Circular()\n",
    "print(lista_circular)"
   ]
  },
  {
   "cell_type": "code",
   "execution_count": 85,
   "metadata": {},
   "outputs": [],
   "source": [
    "lista_circular.insere_fim(Aluno('Sara', 9.8))\n",
    "lista_circular.insere_fim(Aluno('Lucas', 7.8))\n",
    "lista_circular.insere_inicio(Aluno('Sabrina', 8.8))"
   ]
  },
  {
   "cell_type": "code",
   "execution_count": 86,
   "metadata": {},
   "outputs": [
    {
     "name": "stdout",
     "output_type": "stream",
     "text": [
      "Sabrina:8.8\n",
      "Sara:9.8\n",
      "Lucas:7.8\n"
     ]
    }
   ],
   "source": [
    "lista_circular.show_fila()"
   ]
  },
  {
   "cell_type": "code",
   "execution_count": 87,
   "metadata": {},
   "outputs": [
    {
     "name": "stdout",
     "output_type": "stream",
     "text": [
      "Sabrina:8.8\n",
      "Olaf:2.0\n",
      "Sara:9.8\n",
      "Lucas:7.8\n"
     ]
    }
   ],
   "source": [
    "first_node = lista_circular.inicio\n",
    "lista_circular.insere_mei(first_node, Aluno('Olaf', 2.0))\n",
    "\n",
    "lista_circular.show_fila()"
   ]
  },
  {
   "cell_type": "code",
   "execution_count": 88,
   "metadata": {},
   "outputs": [],
   "source": [
    "lista_circular.deleta_inicio()"
   ]
  },
  {
   "cell_type": "code",
   "execution_count": 89,
   "metadata": {},
   "outputs": [
    {
     "name": "stdout",
     "output_type": "stream",
     "text": [
      "Olaf:2.0\n",
      "Sara:9.8\n",
      "Lucas:7.8\n"
     ]
    }
   ],
   "source": [
    "lista_circular.show_fila()"
   ]
  },
  {
   "cell_type": "code",
   "execution_count": 90,
   "metadata": {},
   "outputs": [],
   "source": [
    "lista_circular.deleta_fim()"
   ]
  },
  {
   "cell_type": "code",
   "execution_count": 91,
   "metadata": {},
   "outputs": [
    {
     "name": "stdout",
     "output_type": "stream",
     "text": [
      "Olaf:2.0\n",
      "Sara:9.8\n"
     ]
    }
   ],
   "source": [
    "lista_circular.show_fila()"
   ]
  },
  {
   "cell_type": "code",
   "execution_count": 92,
   "metadata": {},
   "outputs": [
    {
     "name": "stdout",
     "output_type": "stream",
     "text": [
      "7\n",
      "2\n"
     ]
    }
   ],
   "source": [
    "lista_circular.deleta_mei(7)"
   ]
  },
  {
   "cell_type": "code",
   "execution_count": 93,
   "metadata": {},
   "outputs": [
    {
     "name": "stdout",
     "output_type": "stream",
     "text": [
      "Olaf:2.0\n"
     ]
    }
   ],
   "source": [
    "lista_circular.show_fila()"
   ]
  },
  {
   "cell_type": "code",
   "execution_count": null,
   "metadata": {},
   "outputs": [],
   "source": []
  }
 ],
 "metadata": {
  "kernelspec": {
   "display_name": "Python 3",
   "language": "python",
   "name": "python3"
  },
  "language_info": {
   "codemirror_mode": {
    "name": "ipython",
    "version": 3
   },
   "file_extension": ".py",
   "mimetype": "text/x-python",
   "name": "python",
   "nbconvert_exporter": "python",
   "pygments_lexer": "ipython3",
   "version": "3.7.6"
  }
 },
 "nbformat": 4,
 "nbformat_minor": 4
}
