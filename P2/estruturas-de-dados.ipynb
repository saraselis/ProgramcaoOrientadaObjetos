{
 "cells": [
  {
   "cell_type": "code",
   "execution_count": 12,
   "metadata": {},
   "outputs": [],
   "source": [
    "import pprint"
   ]
  },
  {
   "cell_type": "markdown",
   "metadata": {},
   "source": [
    "# Lista Ligada com Bubble sort"
   ]
  },
  {
   "cell_type": "code",
   "execution_count": 7,
   "metadata": {},
   "outputs": [],
   "source": [
    "class EmptyLinkedList(Exception):\n",
    "    def __init__(self):\n",
    "        super().__init__('Lista vazia para de burrice')"
   ]
  },
  {
   "cell_type": "code",
   "execution_count": 8,
   "metadata": {},
   "outputs": [],
   "source": [
    "class Aluno:\n",
    "    def __init__(self, nome: str, nota: float):\n",
    "        self._nome = nome\n",
    "        self._nota = nota\n",
    "        self._prox = None\n",
    "\n",
    "    def __repr__(self):\n",
    "        return f'{self._nome}:{self._nota}'\n",
    "\n",
    "    def __lt__(self, outro_aluno):\n",
    "        return self._nota < outro_aluno._nota\n",
    "    \n",
    "    def __gt__(self, outro_aluno):\n",
    "        return self._nota > outro_aluno._nota\n",
    "\n",
    "    @property\n",
    "    def prox(self):\n",
    "        return self._prox\n",
    "    \n",
    "    @prox.setter\n",
    "    def prox(self, prox):\n",
    "        self._prox = prox\n",
    "    \n",
    "    @property\n",
    "    def nome(self) -> str:\n",
    "        return self._nome\n",
    "    \n",
    "    @nome.setter\n",
    "    def nome(self, nome: str):\n",
    "        self._nome = nome\n",
    "        \n",
    "    @property\n",
    "    def nota(self) -> str:\n",
    "        return self._nota\n",
    "    \n",
    "    @nota.setter\n",
    "    def nota(self, nota:float):\n",
    "        self._nota = nota\n",
    "    "
   ]
  },
  {
   "cell_type": "code",
   "execution_count": 98,
   "metadata": {},
   "outputs": [],
   "source": [
    "class ListaLigada:\n",
    "    def __init__(self):\n",
    "        self._inicio = None\n",
    "        self._final = None\n",
    "    \n",
    "    def append(self, aluno: Aluno):\n",
    "        if self._inicio == None:\n",
    "            # Se não tem nada na lista\n",
    "            self._inicio = aluno\n",
    "            self._final = aluno\n",
    "        \n",
    "        else:\n",
    "            # Se já tiver algo, a ultima posicao recebe o aluno e o proximo também aponta\n",
    "            self._final.prox = aluno\n",
    "            # lista circular aponta para o primeiro\n",
    "            self._final = aluno\n",
    "            \n",
    "    def pop(self):\n",
    "        atual = self._inicio\n",
    "        \n",
    "        if atual == None:\n",
    "            # se a lista está vazia\n",
    "            raise EmptyLinkedList\n",
    "            \n",
    "        if atual.prox == None:\n",
    "            # não existe ninguem na posicao de memoria 1 (n tem apontamento)\n",
    "            self._final = None # final está vazio\n",
    "            self._inicio = None # primeira posicao também está vazia pois só tinhamos ela\n",
    "            return atual\n",
    "        \n",
    "        \n",
    "        # Caso que existe mais de 1 item na lista\n",
    "        while atual.prox != self._final:\n",
    "            # enquanto o que está na posicao final é diferente da atual\n",
    "            atual = atual.prox # o atual receberá o proximo da lista\n",
    "        atual.prox = None\n",
    "        retorno = self._final\n",
    "        self._final = atual\n",
    "        return retorno\n",
    "    \n",
    "        \n",
    "    def size(self):\n",
    "        if self._inicio == None:\n",
    "            return 0\n",
    "        \n",
    "        atual = self._inicio\n",
    "        tamanho = 1\n",
    "        \n",
    "        while atual != self._final:\n",
    "            atual = atual.prox\n",
    "            tamanho += 1\n",
    "        return tamanho\n",
    "    \n",
    "    \n",
    "    def sort(self):\n",
    "        for _ in range(self.size()):\n",
    "            atual = self._inicio\n",
    "            anterior = self._inicio\n",
    "\n",
    "            while atual != self._final:\n",
    "                if atual > atual.prox:\n",
    "                    novo_atual = atual.prox\n",
    "                    atual.prox = novo_atual.prox\n",
    "                    novo_atual.prox = atual\n",
    "                    \n",
    "                    if atual == self._inicio:\n",
    "                        self._inicio = novo_atual\n",
    "                    else:\n",
    "                        anterior.prox = novo_atual\n",
    "\n",
    "                if atual.prox == None:\n",
    "                    self._final = atual\n",
    "                else:\n",
    "                    anterior = atual\n",
    "                    atual = atual.prox\n",
    "    \n",
    "    def __repr__(self):\n",
    "        saida = ''\n",
    "        atual = self._inicio\n",
    "        while atual != None: \n",
    "            saida += f'{atual}'\n",
    "            atual = atual.prox\n",
    "            if atual != None:\n",
    "                saida += ' -> '\n",
    "        return f'[{saida}]'"
   ]
  },
  {
   "cell_type": "code",
   "execution_count": 99,
   "metadata": {},
   "outputs": [],
   "source": [
    "lista = ListaLigada()"
   ]
  },
  {
   "cell_type": "code",
   "execution_count": 100,
   "metadata": {},
   "outputs": [],
   "source": [
    "lista.append(Aluno('Sara', 9.8))\n",
    "lista.append(Aluno('Lucas', 7.8))\n",
    "lista.append(Aluno('Victoria', 9.8) )\n",
    "lista.append(Aluno('Sabrina', 8.8) )"
   ]
  },
  {
   "cell_type": "code",
   "execution_count": 101,
   "metadata": {},
   "outputs": [
    {
     "data": {
      "text/plain": [
       "[Sara:9.8 -> Lucas:7.8 -> Victoria:9.8 -> Sabrina:8.8]"
      ]
     },
     "execution_count": 101,
     "metadata": {},
     "output_type": "execute_result"
    }
   ],
   "source": [
    "lista"
   ]
  },
  {
   "cell_type": "code",
   "execution_count": 102,
   "metadata": {},
   "outputs": [
    {
     "data": {
      "text/plain": [
       "4"
      ]
     },
     "execution_count": 102,
     "metadata": {},
     "output_type": "execute_result"
    }
   ],
   "source": [
    " lista.size()"
   ]
  },
  {
   "cell_type": "code",
   "execution_count": 103,
   "metadata": {},
   "outputs": [
    {
     "data": {
      "text/plain": [
       "[Lucas:7.8 -> Sabrina:8.8 -> Sara:9.8 -> Victoria:9.8]"
      ]
     },
     "execution_count": 103,
     "metadata": {},
     "output_type": "execute_result"
    }
   ],
   "source": [
    "lista.sort()\n",
    "lista"
   ]
  },
  {
   "cell_type": "code",
   "execution_count": null,
   "metadata": {},
   "outputs": [],
   "source": []
  },
  {
   "cell_type": "code",
   "execution_count": null,
   "metadata": {},
   "outputs": [],
   "source": []
  },
  {
   "cell_type": "markdown",
   "metadata": {},
   "source": [
    "# Pilha"
   ]
  },
  {
   "cell_type": "code",
   "execution_count": 9,
   "metadata": {},
   "outputs": [],
   "source": [
    "class Stack:\n",
    "    def __init__(self):\n",
    "        self.stack = []\n",
    "        self.len_stack = 0\n",
    "        \n",
    "    def push(self, aluno: Aluno):\n",
    "        self.stack.append(aluno)\n",
    "        self.len_stack += 1\n",
    "        \n",
    "    def pop(self):\n",
    "        if not self.empty():\n",
    "            self.stack.pop(self.len_stack - 1)\n",
    "            self.len_stack -= 1\n",
    "        else:\n",
    "            return 'Não foi possível retirar nenhum elemento, lista vazia'\n",
    "        \n",
    "    def topo(self):\n",
    "        if not self.empty():\n",
    "            return self.stack[-1]\n",
    "        else:\n",
    "            return 'Pilha vazia'\n",
    "    \n",
    "    def empty(self):\n",
    "        if(self.len_stack == 0):\n",
    "            return True\n",
    "        return False\n",
    "    \n",
    "    def show_pilha(self):\n",
    "        saida=' '\n",
    "        for i in self.stack:\n",
    "            saida += f'{i} '\n",
    "            saida += '-> '\n",
    "        print(saida)\n",
    "        \n",
    "    def tamanho(self):\n",
    "        return self.len_stack"
   ]
  },
  {
   "cell_type": "code",
   "execution_count": 10,
   "metadata": {},
   "outputs": [],
   "source": [
    "s = Stack()"
   ]
  },
  {
   "cell_type": "code",
   "execution_count": 11,
   "metadata": {},
   "outputs": [],
   "source": [
    "s.push(Aluno('Sara', 9.8))"
   ]
  },
  {
   "cell_type": "code",
   "execution_count": 12,
   "metadata": {},
   "outputs": [],
   "source": [
    "s.push(Aluno('Lucas', 7.8))"
   ]
  },
  {
   "cell_type": "code",
   "execution_count": 13,
   "metadata": {},
   "outputs": [],
   "source": [
    "s.push(Aluno('Sabrina', 8.8))"
   ]
  },
  {
   "cell_type": "code",
   "execution_count": 17,
   "metadata": {},
   "outputs": [
    {
     "name": "stdout",
     "output_type": "stream",
     "text": [
      " Sara:9.8 -> Lucas:7.8 -> Sabrina:8.8 -> \n",
      "None\n"
     ]
    }
   ],
   "source": [
    "print(s.show_pilha())"
   ]
  },
  {
   "cell_type": "code",
   "execution_count": 211,
   "metadata": {},
   "outputs": [
    {
     "data": {
      "text/plain": [
       "False"
      ]
     },
     "execution_count": 211,
     "metadata": {},
     "output_type": "execute_result"
    }
   ],
   "source": [
    "s.empty()"
   ]
  },
  {
   "cell_type": "code",
   "execution_count": 212,
   "metadata": {},
   "outputs": [
    {
     "data": {
      "text/plain": [
       "Sabrina:8.8"
      ]
     },
     "execution_count": 212,
     "metadata": {},
     "output_type": "execute_result"
    }
   ],
   "source": [
    "s.topo()"
   ]
  },
  {
   "cell_type": "code",
   "execution_count": 213,
   "metadata": {},
   "outputs": [],
   "source": []
  },
  {
   "cell_type": "code",
   "execution_count": 214,
   "metadata": {},
   "outputs": [
    {
     "data": {
      "text/plain": [
       "Lucas:7.8"
      ]
     },
     "execution_count": 214,
     "metadata": {},
     "output_type": "execute_result"
    }
   ],
   "source": [
    "s.topo()"
   ]
  },
  {
   "cell_type": "code",
   "execution_count": 215,
   "metadata": {},
   "outputs": [],
   "source": [
    "s.pop()"
   ]
  },
  {
   "cell_type": "code",
   "execution_count": 216,
   "metadata": {},
   "outputs": [
    {
     "data": {
      "text/plain": [
       "Sara:9.8"
      ]
     },
     "execution_count": 216,
     "metadata": {},
     "output_type": "execute_result"
    }
   ],
   "source": [
    "s.topo()"
   ]
  },
  {
   "cell_type": "code",
   "execution_count": 220,
   "metadata": {},
   "outputs": [
    {
     "data": {
      "text/plain": [
       "'Não foi possível retirar nenhum elemento, lista vazia'"
      ]
     },
     "execution_count": 220,
     "metadata": {},
     "output_type": "execute_result"
    }
   ],
   "source": [
    "s.pop()"
   ]
  },
  {
   "cell_type": "code",
   "execution_count": 221,
   "metadata": {},
   "outputs": [
    {
     "data": {
      "text/plain": [
       "'Pilha vazia'"
      ]
     },
     "execution_count": 221,
     "metadata": {},
     "output_type": "execute_result"
    }
   ],
   "source": [
    "s.topo()\n"
   ]
  },
  {
   "cell_type": "code",
   "execution_count": 222,
   "metadata": {},
   "outputs": [
    {
     "data": {
      "text/plain": [
       "'Não foi possível retirar nenhum elemento, lista vazia'"
      ]
     },
     "execution_count": 222,
     "metadata": {},
     "output_type": "execute_result"
    }
   ],
   "source": [
    "s.pop()"
   ]
  },
  {
   "cell_type": "code",
   "execution_count": 223,
   "metadata": {},
   "outputs": [
    {
     "data": {
      "text/plain": [
       "True"
      ]
     },
     "execution_count": 223,
     "metadata": {},
     "output_type": "execute_result"
    }
   ],
   "source": [
    "s.empty()"
   ]
  },
  {
   "cell_type": "code",
   "execution_count": 18,
   "metadata": {},
   "outputs": [
    {
     "name": "stdout",
     "output_type": "stream",
     "text": [
      "<__main__.Stack object at 0x7f1029f1db50>\n"
     ]
    }
   ],
   "source": [
    "print(s)"
   ]
  },
  {
   "cell_type": "code",
   "execution_count": null,
   "metadata": {},
   "outputs": [],
   "source": []
  },
  {
   "cell_type": "markdown",
   "metadata": {},
   "source": [
    "# Fila"
   ]
  },
  {
   "cell_type": "code",
   "execution_count": 252,
   "metadata": {},
   "outputs": [],
   "source": [
    "class Fila:\n",
    "    def __init__(self):\n",
    "        self.queue = []\n",
    "        self.len_queue = 0\n",
    "    \n",
    "    def empty(self):\n",
    "        if self.len_queue == 0:\n",
    "            return True\n",
    "        return False\n",
    "    \n",
    "    def push(self, aluno: Aluno):\n",
    "        self.queue.append(aluno)\n",
    "        self.len_queue += 1 # incrementando no tamanho da nossa fila\n",
    "        \n",
    "    def pop(self):\n",
    "        if not self.empty():\n",
    "            self.queue.pop(0) # retira-se sempre o primeiro elemento\n",
    "            self.len_queue -= 1\n",
    "            return f'Aluno removido com sucesso'\n",
    "        else:\n",
    "            return f'Não foi possível remover, lista vazia'\n",
    "     \n",
    "    def length(self):\n",
    "        return f'O tamanho dessa listosa e {self.len_queue}'\n",
    "    \n",
    "    def inicio(self):\n",
    "        if not self.empty():\n",
    "            return self.queue[0]\n",
    "        else:\n",
    "            return f\"Nao existe primeiro elemento, lista vazia\"\n",
    "        \n",
    "    def fim(self):\n",
    "        if not self.empty():\n",
    "            return self.queue[-1]\n",
    "        else:\n",
    "            return f\"Essa porra ta vazia\"\n",
    "        \n",
    "    def show_fila(self):\n",
    "        saida=' '\n",
    "        for i in self.queue:\n",
    "            saida += f'{i} '\n",
    "            saida += '-> '\n",
    "        print(saida)"
   ]
  },
  {
   "cell_type": "code",
   "execution_count": null,
   "metadata": {},
   "outputs": [],
   "source": []
  },
  {
   "cell_type": "code",
   "execution_count": 253,
   "metadata": {},
   "outputs": [],
   "source": [
    "f = Fila()"
   ]
  },
  {
   "cell_type": "code",
   "execution_count": 254,
   "metadata": {},
   "outputs": [],
   "source": [
    "f.push(Aluno('Sara', 9.8))"
   ]
  },
  {
   "cell_type": "code",
   "execution_count": 255,
   "metadata": {},
   "outputs": [],
   "source": [
    "f.push(Aluno('Lucas', 7.8))"
   ]
  },
  {
   "cell_type": "code",
   "execution_count": 256,
   "metadata": {},
   "outputs": [],
   "source": [
    "f.push(Aluno('Sabrina', 8.8))"
   ]
  },
  {
   "cell_type": "code",
   "execution_count": 257,
   "metadata": {},
   "outputs": [
    {
     "name": "stdout",
     "output_type": "stream",
     "text": [
      " Sara:9.8 -> Lucas:7.8 -> Sabrina:8.8 -> \n"
     ]
    }
   ],
   "source": [
    "f.show_fila()"
   ]
  },
  {
   "cell_type": "code",
   "execution_count": 258,
   "metadata": {},
   "outputs": [
    {
     "data": {
      "text/plain": [
       "'Aluno removido com sucesso'"
      ]
     },
     "execution_count": 258,
     "metadata": {},
     "output_type": "execute_result"
    }
   ],
   "source": [
    "f.pop()"
   ]
  },
  {
   "cell_type": "code",
   "execution_count": 259,
   "metadata": {},
   "outputs": [
    {
     "data": {
      "text/plain": [
       "Sabrina:8.8"
      ]
     },
     "execution_count": 259,
     "metadata": {},
     "output_type": "execute_result"
    }
   ],
   "source": [
    "f.fim()"
   ]
  },
  {
   "cell_type": "code",
   "execution_count": 260,
   "metadata": {},
   "outputs": [
    {
     "data": {
      "text/plain": [
       "Lucas:7.8"
      ]
     },
     "execution_count": 260,
     "metadata": {},
     "output_type": "execute_result"
    }
   ],
   "source": [
    "f.inicio()"
   ]
  },
  {
   "cell_type": "code",
   "execution_count": 261,
   "metadata": {},
   "outputs": [
    {
     "name": "stdout",
     "output_type": "stream",
     "text": [
      " Lucas:7.8 -> Sabrina:8.8 -> \n"
     ]
    }
   ],
   "source": [
    "f.show_fila()"
   ]
  },
  {
   "cell_type": "code",
   "execution_count": 262,
   "metadata": {},
   "outputs": [
    {
     "data": {
      "text/plain": [
       "'O tamanho dessa listosa e 2'"
      ]
     },
     "execution_count": 262,
     "metadata": {},
     "output_type": "execute_result"
    }
   ],
   "source": [
    "f.length()"
   ]
  },
  {
   "cell_type": "code",
   "execution_count": 263,
   "metadata": {},
   "outputs": [
    {
     "data": {
      "text/plain": [
       "False"
      ]
     },
     "execution_count": 263,
     "metadata": {},
     "output_type": "execute_result"
    }
   ],
   "source": [
    "f.empty()"
   ]
  },
  {
   "cell_type": "code",
   "execution_count": 264,
   "metadata": {},
   "outputs": [
    {
     "data": {
      "text/plain": [
       "'Aluno removido com sucesso'"
      ]
     },
     "execution_count": 264,
     "metadata": {},
     "output_type": "execute_result"
    }
   ],
   "source": [
    "f.pop()"
   ]
  },
  {
   "cell_type": "code",
   "execution_count": 265,
   "metadata": {},
   "outputs": [
    {
     "data": {
      "text/plain": [
       "Sabrina:8.8"
      ]
     },
     "execution_count": 265,
     "metadata": {},
     "output_type": "execute_result"
    }
   ],
   "source": [
    "f.fim()"
   ]
  },
  {
   "cell_type": "code",
   "execution_count": 266,
   "metadata": {},
   "outputs": [
    {
     "data": {
      "text/plain": [
       "Sabrina:8.8"
      ]
     },
     "execution_count": 266,
     "metadata": {},
     "output_type": "execute_result"
    }
   ],
   "source": [
    "f.inicio()"
   ]
  },
  {
   "cell_type": "code",
   "execution_count": 267,
   "metadata": {},
   "outputs": [
    {
     "data": {
      "text/plain": [
       "'Aluno removido com sucesso'"
      ]
     },
     "execution_count": 267,
     "metadata": {},
     "output_type": "execute_result"
    }
   ],
   "source": [
    "f.pop()"
   ]
  },
  {
   "cell_type": "code",
   "execution_count": 268,
   "metadata": {},
   "outputs": [
    {
     "data": {
      "text/plain": [
       "'Não foi possível remover, lista vazia'"
      ]
     },
     "execution_count": 268,
     "metadata": {},
     "output_type": "execute_result"
    }
   ],
   "source": [
    "f.pop()"
   ]
  },
  {
   "cell_type": "code",
   "execution_count": 269,
   "metadata": {},
   "outputs": [
    {
     "data": {
      "text/plain": [
       "True"
      ]
     },
     "execution_count": 269,
     "metadata": {},
     "output_type": "execute_result"
    }
   ],
   "source": [
    "f.empty()"
   ]
  },
  {
   "cell_type": "code",
   "execution_count": null,
   "metadata": {},
   "outputs": [],
   "source": []
  },
  {
   "cell_type": "code",
   "execution_count": null,
   "metadata": {},
   "outputs": [],
   "source": []
  },
  {
   "cell_type": "markdown",
   "metadata": {},
   "source": [
    "# Lista circular"
   ]
  },
  {
   "cell_type": "code",
   "execution_count": 7,
   "metadata": {},
   "outputs": [],
   "source": [
    "class Node:\n",
    "    def __init__(self, data=None, next_node = None):\n",
    "        self.data = data\n",
    "        self.next_node = next_node\n",
    "#         self.previous = None\n"
   ]
  },
  {
   "cell_type": "code",
   "execution_count": 263,
   "metadata": {},
   "outputs": [],
   "source": [
    "class CircularList:\n",
    "    def __init__(self, head=None, end=None):\n",
    "        self.head = head\n",
    "        self.end = end\n",
    "        \n",
    "    def traverse(self):\n",
    "        # primeir nó\n",
    "        curr_node = self.head\n",
    "        \n",
    "        # o tamanho maximo que nosso nó deverá ir\n",
    "        while curr_node.next_node:\n",
    "            print(curr_node.data)\n",
    "            curr_node = curr_node.next_node\n",
    "            \n",
    "            # finaliza o percorrimento\n",
    "            if curr_node == self.head:\n",
    "                break\n",
    "                \n",
    "    def insert_end(self, data):\n",
    "        new_node = Node(data)\n",
    "        \n",
    "        # se a lista estiver vazia\n",
    "        if self.head == None:\n",
    "            self.head = new_node\n",
    "            self.head.next_node = new_node\n",
    "            self.end = new_node\n",
    "            \n",
    "            return \n",
    "        \n",
    "        # se a lista não estiver vazia\n",
    "        if self.end != None:\n",
    "            self.end.next_node = new_node\n",
    "            new_node.next_node = self.head\n",
    "            self.end = new_node\n",
    "            return \n",
    "        \n",
    "    def insert_beg(self, data):\n",
    "        new_node = Node(data)\n",
    "        new_node.next_node = self.head\n",
    "        curr_node = self.head\n",
    "        \n",
    "        # lista vazia\n",
    "        if curr_node == None:\n",
    "            self.head = new_node\n",
    "            self.end = new_node\n",
    "            self.head.next_node = new_node\n",
    "            return\n",
    "        \n",
    "        # lista não está vazia\n",
    "        if self.end != None:\n",
    "            self.end.next_node = new_node\n",
    "            new_node.next_node = self.head\n",
    "            self.head = new_node\n",
    "            return\n",
    "    \n",
    "    def insert_mid(self, ref_node, data):\n",
    "        \n",
    "        # vazia\n",
    "        if ref_node == None:\n",
    "            raise ValueError(\"BUGO TD VSF\")\n",
    "            \n",
    "        # se o nó é igual ao ultimo, usar a funcao de inserir no final\n",
    "        if ref_node == self.end:\n",
    "            self.insert_end(data)\n",
    "            \n",
    "#         if ref_node == self.head:\n",
    "#             self.insert_beg(data)\n",
    "            \n",
    "        # inserindo na posicao desejada\n",
    "        new_node = Node(data)\n",
    "        ref_next = ref_node.next_node\n",
    "        ref_node.next_node = new_node\n",
    "        new_node.next_node = ref_next\n",
    "        \n",
    "    def delete_beg(self):\n",
    "        # se tiver algo na lista \n",
    "        if self.head != None:\n",
    "            # Pegar o prox elemento \n",
    "            aft_head = self.head.next_node\n",
    "            \n",
    "            self.end.next_node = aft_head\n",
    "            \n",
    "            # setar o inicio\n",
    "            self.head = aft_head\n",
    "        else:\n",
    "            raise ValueError(\"Deu ruim krai\")\n",
    "      \n",
    "    def delete_end(self):\n",
    "        # se tiver algo na lista \n",
    "        if self.head != None:\n",
    "            curr_node = self.head\n",
    "            \n",
    "           #percorre até o nó, verifica se os proximos nós são diferentes do inicial\n",
    "            while curr_node.next_node.next_node != self.head:\n",
    "                curr_node = curr_node.next_node\n",
    "                \n",
    "            # pegando o final\n",
    "            self.end = curr_node\n",
    "            \n",
    "            # recupera o ultimo nó\n",
    "            curr_node.next_node = self.head\n",
    "            \n",
    "        else:\n",
    "            raise ValueError(\"Deu ruim krai\")\n",
    "            \n",
    "    \n",
    "    def delete_mid(self, position):\n",
    "        # if position is 0 e vamos deletar o primeo\n",
    "        if position == 0:\n",
    "            self.delete_beg()\n",
    "            return\n",
    "        \n",
    "        if position == self.list_size() - 1:\n",
    "            self.delete_end()\n",
    "            return \n",
    "        \n",
    "        if position >= self.list_size() -1:\n",
    "            print(\"Posicao maior que o tamanho da lista, vc parece q e burro\")\n",
    "            return \n",
    "        \n",
    "        # pegando o novo primeiro nó\n",
    "        curr_node = self.head.next_node\n",
    "        \n",
    "        # percorrendo até aposicao\n",
    "        count = 0\n",
    "        \n",
    "        while count <= position:\n",
    "            count = count + 1\n",
    "            curr_node = curr_node.next_node\n",
    "            \n",
    "        \n",
    "        curr_node.next_node = curr_node.next_node.next_node\n",
    "        \n",
    "    def list_size(self):\n",
    "        # pega o primeiro nó\n",
    "        curr_node = self.head\n",
    "        count =0\n",
    "        \n",
    "        while curr_node.next_node:\n",
    "            count += 1\n",
    "            #percorre até o nó novamente\n",
    "            curr_node = curr_node.next_node\n",
    "\n",
    "            #encerra o loop pois chegamos ao primeiro nó\n",
    "            if curr_node == self.head:\n",
    "                break\n",
    "        return count"
   ]
  },
  {
   "cell_type": "code",
   "execution_count": 264,
   "metadata": {},
   "outputs": [],
   "source": [
    "lista_circular = CircularList()"
   ]
  },
  {
   "cell_type": "code",
   "execution_count": 265,
   "metadata": {},
   "outputs": [],
   "source": [
    "lista_circular.insert_end(Aluno('Sara', 9.8))\n",
    "lista_circular.insert_end(Aluno('Lucas', 7.8))\n",
    "lista_circular.insert_beg(Aluno('Sabrina', 8.8))\n",
    "#Sabrina, Sara, Lucas"
   ]
  },
  {
   "cell_type": "code",
   "execution_count": 266,
   "metadata": {},
   "outputs": [
    {
     "name": "stdout",
     "output_type": "stream",
     "text": [
      "Sabrina:8.8\n",
      "Sara:9.8\n",
      "Lucas:7.8\n"
     ]
    }
   ],
   "source": [
    "lista_circular.traverse()"
   ]
  },
  {
   "cell_type": "code",
   "execution_count": 267,
   "metadata": {},
   "outputs": [
    {
     "name": "stdout",
     "output_type": "stream",
     "text": [
      "Sabrina:8.8\n",
      "Olaf:2.0\n",
      "Sara:9.8\n",
      "Lucas:7.8\n"
     ]
    }
   ],
   "source": [
    "first_node = lista_circular.head\n",
    "lista_circular.insert_mid(first_node, Aluno('Olaf', 2.0))\n",
    "\n",
    "lista_circular.traverse()"
   ]
  },
  {
   "cell_type": "code",
   "execution_count": 268,
   "metadata": {},
   "outputs": [],
   "source": [
    "lista_circular.delete_beg()"
   ]
  },
  {
   "cell_type": "code",
   "execution_count": 269,
   "metadata": {},
   "outputs": [
    {
     "name": "stdout",
     "output_type": "stream",
     "text": [
      "Olaf:2.0\n",
      "Sara:9.8\n",
      "Lucas:7.8\n"
     ]
    }
   ],
   "source": [
    "lista_circular.traverse()"
   ]
  },
  {
   "cell_type": "code",
   "execution_count": 24,
   "metadata": {},
   "outputs": [],
   "source": [
    "lista_circular.delete_end()"
   ]
  },
  {
   "cell_type": "code",
   "execution_count": 25,
   "metadata": {},
   "outputs": [
    {
     "name": "stdout",
     "output_type": "stream",
     "text": [
      "Olaf:2.0\n",
      "Sara:9.8\n"
     ]
    }
   ],
   "source": [
    "lista_circular.traverse()"
   ]
  },
  {
   "cell_type": "code",
   "execution_count": 26,
   "metadata": {},
   "outputs": [],
   "source": [
    "lista_circular.delete_mid(1)"
   ]
  },
  {
   "cell_type": "code",
   "execution_count": 27,
   "metadata": {},
   "outputs": [
    {
     "name": "stdout",
     "output_type": "stream",
     "text": [
      "Olaf:2.0\n"
     ]
    }
   ],
   "source": [
    "lista_circular.traverse()"
   ]
  },
  {
   "cell_type": "code",
   "execution_count": null,
   "metadata": {},
   "outputs": [],
   "source": []
  },
  {
   "cell_type": "code",
   "execution_count": null,
   "metadata": {},
   "outputs": [],
   "source": []
  },
  {
   "cell_type": "markdown",
   "metadata": {},
   "source": [
    "# Selection Sort"
   ]
  },
  {
   "cell_type": "code",
   "execution_count": 151,
   "metadata": {},
   "outputs": [],
   "source": [
    "class SelectionSort:\n",
    "    def __init__(self, v:list):\n",
    "        self.v = v\n",
    "        self.len_v = len(self.v)\n",
    "    \n",
    "    def __lt__(self, outro_aluno):\n",
    "        return self._nota < outro_aluno._nota\n",
    "    \n",
    "    def selection_sort(self):\n",
    "        for i in range(self.len_v):\n",
    "            menor = i\n",
    "            for j in range(i + 1, self.len_v):\n",
    "                if self.v[j] < self.v[menor]:\n",
    "                    menor = j\n",
    "            self.v[menor], self.v[i] = self.v[i], self.v[menor]\n",
    "        return self.v"
   ]
  },
  {
   "cell_type": "code",
   "execution_count": 152,
   "metadata": {},
   "outputs": [
    {
     "data": {
      "text/plain": [
       "3"
      ]
     },
     "execution_count": 152,
     "metadata": {},
     "output_type": "execute_result"
    }
   ],
   "source": [
    "sara = [Aluno('Sara', 9.8), Aluno('Lucas', 7.8), Aluno('Sabrina', 8.8)]\n",
    "len(sara)\n"
   ]
  },
  {
   "cell_type": "code",
   "execution_count": 153,
   "metadata": {},
   "outputs": [
    {
     "data": {
      "text/plain": [
       "[Sara:9.8, Lucas:7.8, Sabrina:8.8]"
      ]
     },
     "execution_count": 153,
     "metadata": {},
     "output_type": "execute_result"
    }
   ],
   "source": [
    "sara"
   ]
  },
  {
   "cell_type": "code",
   "execution_count": 154,
   "metadata": {},
   "outputs": [],
   "source": [
    "sele = SelectionSort(sara)"
   ]
  },
  {
   "cell_type": "code",
   "execution_count": 155,
   "metadata": {},
   "outputs": [],
   "source": [
    "teste = sele.selection_sort()"
   ]
  },
  {
   "cell_type": "code",
   "execution_count": 156,
   "metadata": {},
   "outputs": [
    {
     "name": "stdout",
     "output_type": "stream",
     "text": [
      "[Lucas:7.8, Sabrina:8.8, Sara:9.8]\n"
     ]
    }
   ],
   "source": [
    "print(teste)"
   ]
  },
  {
   "cell_type": "code",
   "execution_count": 157,
   "metadata": {},
   "outputs": [
    {
     "data": {
      "text/plain": [
       "[Lucas:7.8, Sabrina:8.8, Sara:9.8]"
      ]
     },
     "execution_count": 157,
     "metadata": {},
     "output_type": "execute_result"
    }
   ],
   "source": [
    "sele.selection_sort()"
   ]
  },
  {
   "cell_type": "code",
   "execution_count": null,
   "metadata": {},
   "outputs": [],
   "source": []
  },
  {
   "cell_type": "markdown",
   "metadata": {},
   "source": [
    "# Insertion Sort burrão\n",
    "* serve p poucos elementos\n",
    "* trazer p esquerda"
   ]
  },
  {
   "cell_type": "code",
   "execution_count": 190,
   "metadata": {},
   "outputs": [],
   "source": [
    "class InsertionSort:\n",
    "    def __init__(self, v):\n",
    "        self.v = v\n",
    "        self.len_v = len(self.v)\n",
    "    \n",
    "    def __gt__(self, outro_aluno):\n",
    "        return self._nota > outro_aluno._nota\n",
    "    \n",
    "    def __ge__(self, outro_aluno):\n",
    "        return self._nota >= outro_aluno._nota\n",
    "    \n",
    "    def insertion_sort(self):\n",
    "        for i in range(1, self.len_v):\n",
    "            chave = self.v[i]\n",
    "            j = i - 1\n",
    "            while j>=0 and self.v[j] > chave:\n",
    "                self.v[j+1] = self.v[j]\n",
    "                j -= 1\n",
    "\n",
    "            self.v[j+1] = chave\n",
    "            \n",
    "        return self.v"
   ]
  },
  {
   "cell_type": "code",
   "execution_count": 191,
   "metadata": {},
   "outputs": [],
   "source": [
    "sara = [Aluno('Sara', 9.8), Aluno('Lucas', 7.8), Aluno('Sabrina', 8.8)]"
   ]
  },
  {
   "cell_type": "code",
   "execution_count": 192,
   "metadata": {},
   "outputs": [],
   "source": [
    "inser = InsertionSort(sara)"
   ]
  },
  {
   "cell_type": "code",
   "execution_count": 193,
   "metadata": {},
   "outputs": [
    {
     "name": "stdout",
     "output_type": "stream",
     "text": [
      "<__main__.InsertionSort object at 0x7f0b0c4ebf50>\n"
     ]
    }
   ],
   "source": [
    "print(inser)"
   ]
  },
  {
   "cell_type": "code",
   "execution_count": 194,
   "metadata": {},
   "outputs": [],
   "source": [
    "teste = inser.insertion_sort()"
   ]
  },
  {
   "cell_type": "code",
   "execution_count": 195,
   "metadata": {},
   "outputs": [
    {
     "data": {
      "text/plain": [
       "[Lucas:7.8, Sabrina:8.8, Sara:9.8]"
      ]
     },
     "execution_count": 195,
     "metadata": {},
     "output_type": "execute_result"
    }
   ],
   "source": [
    "teste"
   ]
  },
  {
   "cell_type": "code",
   "execution_count": null,
   "metadata": {},
   "outputs": [],
   "source": []
  },
  {
   "cell_type": "markdown",
   "metadata": {},
   "source": [
    "# Quick Sort"
   ]
  },
  {
   "cell_type": "code",
   "execution_count": 262,
   "metadata": {},
   "outputs": [
    {
     "name": "stdout",
     "output_type": "stream",
     "text": [
      "[15, 20, 50, 70]\n"
     ]
    }
   ],
   "source": [
    "# passa a lista, o início e o fim da lista\n",
    "def particiona(v, ini, fim):\n",
    "\n",
    "\t# o pivô é o elemento do início\n",
    "\tpivo = ini\n",
    "\n",
    "\tfor i in range(ini + 1, fim + 1):\n",
    "\t\tif v[i] <= v[ini]:\n",
    "\t\t\tpivo += 1\n",
    "\t\t\tv[i], v[pivo] = v[pivo], v[i]\n",
    "\n",
    "\tv[pivo], v[ini] = v[ini], v[pivo]\n",
    "\n",
    "\treturn pivo\n",
    "\n",
    "\n",
    "# passa a lista, o início e o fim da lista\n",
    "def quick_sort(v, ini, fim):\n",
    "\t\n",
    "\t'''\n",
    "\t\tSe o fim for maior que o iníco, então\n",
    "\t\teu calculo a posição do pivô utilizando\n",
    "\t\t a função particiona\n",
    "\t'''\n",
    "\tif fim > ini:\n",
    "\n",
    "\t\t# separa os dados em duas partições\n",
    "\t\tpivo = particiona(v, ini, fim)\n",
    "\n",
    "\t\t'''\n",
    "\t\t\tTendo o pivô, chama a função duas\n",
    "\t\t\tvezes para cada partição, a primeira\n",
    "\t\t\tdos elementos que estão antes do pivô\n",
    "\t\t\te a segunda é a dos elementos que estão\n",
    "\t\t\tdepois do pivô\n",
    "\t\t'''\n",
    "\t\tquick_sort(v, ini, pivo - 1)\n",
    "\t\tquick_sort(v, pivo + 1, fim)\n",
    "\n",
    "v = [50, 20, 70, 15]\n",
    "quick_sort(v, 0, len(v) - 1)\n",
    "print(v)"
   ]
  },
  {
   "cell_type": "code",
   "execution_count": 261,
   "metadata": {},
   "outputs": [
    {
     "ename": "NameError",
     "evalue": "name 'self' is not defined",
     "output_type": "error",
     "traceback": [
      "\u001b[0;31m---------------------------------------------------------------------------\u001b[0m",
      "\u001b[0;31mNameError\u001b[0m                                 Traceback (most recent call last)",
      "\u001b[0;32m<ipython-input-261-406dc6e29fd8>\u001b[0m in \u001b[0;36m<module>\u001b[0;34m\u001b[0m\n\u001b[0;32m----> 1\u001b[0;31m \u001b[0;32mclass\u001b[0m \u001b[0mQuickSort\u001b[0m\u001b[0;34m:\u001b[0m\u001b[0;34m\u001b[0m\u001b[0;34m\u001b[0m\u001b[0m\n\u001b[0m\u001b[1;32m      2\u001b[0m     \u001b[0;32mdef\u001b[0m \u001b[0m__init__\u001b[0m\u001b[0;34m(\u001b[0m\u001b[0mself\u001b[0m\u001b[0;34m,\u001b[0m \u001b[0mv\u001b[0m\u001b[0;34m,\u001b[0m \u001b[0mini\u001b[0m\u001b[0;34m,\u001b[0m \u001b[0mfim\u001b[0m\u001b[0;34m)\u001b[0m\u001b[0;34m:\u001b[0m\u001b[0;34m\u001b[0m\u001b[0;34m\u001b[0m\u001b[0m\n\u001b[1;32m      3\u001b[0m         \u001b[0mself\u001b[0m\u001b[0;34m.\u001b[0m\u001b[0mv\u001b[0m \u001b[0;34m=\u001b[0m \u001b[0mv\u001b[0m\u001b[0;34m\u001b[0m\u001b[0;34m\u001b[0m\u001b[0m\n\u001b[1;32m      4\u001b[0m         \u001b[0mself\u001b[0m\u001b[0;34m.\u001b[0m\u001b[0mini\u001b[0m \u001b[0;34m=\u001b[0m \u001b[0mini\u001b[0m\u001b[0;34m\u001b[0m\u001b[0;34m\u001b[0m\u001b[0m\n\u001b[1;32m      5\u001b[0m         \u001b[0mself\u001b[0m\u001b[0;34m.\u001b[0m\u001b[0mfim\u001b[0m \u001b[0;34m=\u001b[0m \u001b[0mfim\u001b[0m\u001b[0;34m\u001b[0m\u001b[0;34m\u001b[0m\u001b[0m\n",
      "\u001b[0;32m<ipython-input-261-406dc6e29fd8>\u001b[0m in \u001b[0;36mQuickSort\u001b[0;34m()\u001b[0m\n\u001b[1;32m     25\u001b[0m         \u001b[0;32mreturn\u001b[0m \u001b[0mpivo\u001b[0m\u001b[0;34m\u001b[0m\u001b[0;34m\u001b[0m\u001b[0m\n\u001b[1;32m     26\u001b[0m \u001b[0;34m\u001b[0m\u001b[0m\n\u001b[0;32m---> 27\u001b[0;31m     \u001b[0;32mdef\u001b[0m \u001b[0mquick_sort\u001b[0m\u001b[0;34m(\u001b[0m\u001b[0mself\u001b[0m\u001b[0;34m,\u001b[0m \u001b[0mv\u001b[0m\u001b[0;34m=\u001b[0m\u001b[0mself\u001b[0m\u001b[0;34m.\u001b[0m\u001b[0mv\u001b[0m\u001b[0;34m,\u001b[0m \u001b[0mini\u001b[0m\u001b[0;34m=\u001b[0m\u001b[0mself\u001b[0m\u001b[0;34m.\u001b[0m\u001b[0mini\u001b[0m\u001b[0;34m,\u001b[0m \u001b[0mfim\u001b[0m\u001b[0;34m=\u001b[0m\u001b[0mself\u001b[0m\u001b[0;34m.\u001b[0m\u001b[0mfim\u001b[0m\u001b[0;34m)\u001b[0m\u001b[0;34m:\u001b[0m\u001b[0;34m\u001b[0m\u001b[0;34m\u001b[0m\u001b[0m\n\u001b[0m\u001b[1;32m     28\u001b[0m         \u001b[0;32mif\u001b[0m \u001b[0mself\u001b[0m\u001b[0;34m.\u001b[0m\u001b[0mfim\u001b[0m \u001b[0;34m>\u001b[0m \u001b[0mself\u001b[0m\u001b[0;34m.\u001b[0m\u001b[0mini\u001b[0m\u001b[0;34m:\u001b[0m\u001b[0;34m\u001b[0m\u001b[0;34m\u001b[0m\u001b[0m\n\u001b[1;32m     29\u001b[0m             \u001b[0;31m# separa os dados em duas partições\u001b[0m\u001b[0;34m\u001b[0m\u001b[0;34m\u001b[0m\u001b[0;34m\u001b[0m\u001b[0m\n",
      "\u001b[0;31mNameError\u001b[0m: name 'self' is not defined"
     ]
    }
   ],
   "source": [
    "class QuickSort:\n",
    "    def __init__(self, v, ini, fim):\n",
    "        self.v = v\n",
    "        self.ini = ini\n",
    "        self.fim = fim\n",
    "#         self.pivo = pivo\n",
    "        \n",
    "    def __le__(self, outro_aluno):\n",
    "        return self._nota <= outro_aluno._nota    \n",
    "    \n",
    "    def __gt__(self, outro_aluno):\n",
    "        return self._nota > outro_aluno._nota \n",
    "    \n",
    "    def particiona(self):\n",
    "        # o pivô é o elemento do início\n",
    "        pivo = self.ini\n",
    "\n",
    "        for i in range(self.ini + 1, self.fim + 1):\n",
    "            if self.v[i] <= self.v[self.ini]:\n",
    "                pivo += 1\n",
    "                self.v[i], self.v[pivo] = self.v[pivo], self.v[i]\n",
    "\n",
    "        self.v[pivo], self.v[self.ini] = self.v[self.ini], self.v[pivo]\n",
    "\n",
    "        return pivo\n",
    "\n",
    "    def quick_sort(self, v=self.v, ini=self.ini, fim=self.fim):\n",
    "        if self.fim > self.ini:\n",
    "            # separa os dados em duas partições\n",
    "            pivo = self.particiona()\n",
    "            print(pivo)\n",
    "            print(self.v)\n",
    "            print(self.ini)\n",
    "            print(self.fim)\n",
    "            self.quick_sort(self.v, self.ini, pivo - 1)\n",
    "            self.quick_sort(self.v, self.pivo + 1, self.fim)"
   ]
  },
  {
   "cell_type": "code",
   "execution_count": 257,
   "metadata": {},
   "outputs": [],
   "source": [
    "sara = [Aluno('Sara', 9.8), Aluno('Lucas', 7.8), Aluno('Sabrina', 8.8)]"
   ]
  },
  {
   "cell_type": "code",
   "execution_count": 258,
   "metadata": {},
   "outputs": [],
   "source": [
    "sara = [50, 20, 70, 15]"
   ]
  },
  {
   "cell_type": "code",
   "execution_count": 259,
   "metadata": {},
   "outputs": [],
   "source": [
    "quick = QuickSort(sara, 0, len(sara)-1)"
   ]
  },
  {
   "cell_type": "code",
   "execution_count": 260,
   "metadata": {},
   "outputs": [
    {
     "name": "stdout",
     "output_type": "stream",
     "text": [
      "2\n",
      "[15, 20, 50, 70]\n",
      "0\n",
      "3\n"
     ]
    },
    {
     "ename": "TypeError",
     "evalue": "quick_sort() takes 1 positional argument but 4 were given",
     "output_type": "error",
     "traceback": [
      "\u001b[0;31m---------------------------------------------------------------------------\u001b[0m",
      "\u001b[0;31mTypeError\u001b[0m                                 Traceback (most recent call last)",
      "\u001b[0;32m<ipython-input-260-fdfef1ffe315>\u001b[0m in \u001b[0;36m<module>\u001b[0;34m\u001b[0m\n\u001b[0;32m----> 1\u001b[0;31m \u001b[0mteste\u001b[0m \u001b[0;34m=\u001b[0m \u001b[0mquick\u001b[0m\u001b[0;34m.\u001b[0m\u001b[0mquick_sort\u001b[0m\u001b[0;34m(\u001b[0m\u001b[0;34m)\u001b[0m\u001b[0;34m\u001b[0m\u001b[0;34m\u001b[0m\u001b[0m\n\u001b[0m",
      "\u001b[0;32m<ipython-input-256-42b7d57e9c28>\u001b[0m in \u001b[0;36mquick_sort\u001b[0;34m(self)\u001b[0m\n\u001b[1;32m     33\u001b[0m             \u001b[0mprint\u001b[0m\u001b[0;34m(\u001b[0m\u001b[0mself\u001b[0m\u001b[0;34m.\u001b[0m\u001b[0mini\u001b[0m\u001b[0;34m)\u001b[0m\u001b[0;34m\u001b[0m\u001b[0;34m\u001b[0m\u001b[0m\n\u001b[1;32m     34\u001b[0m             \u001b[0mprint\u001b[0m\u001b[0;34m(\u001b[0m\u001b[0mself\u001b[0m\u001b[0;34m.\u001b[0m\u001b[0mfim\u001b[0m\u001b[0;34m)\u001b[0m\u001b[0;34m\u001b[0m\u001b[0;34m\u001b[0m\u001b[0m\n\u001b[0;32m---> 35\u001b[0;31m             \u001b[0mself\u001b[0m\u001b[0;34m.\u001b[0m\u001b[0mquick_sort\u001b[0m\u001b[0;34m(\u001b[0m\u001b[0mself\u001b[0m\u001b[0;34m.\u001b[0m\u001b[0mv\u001b[0m\u001b[0;34m,\u001b[0m \u001b[0mself\u001b[0m\u001b[0;34m.\u001b[0m\u001b[0mini\u001b[0m\u001b[0;34m,\u001b[0m \u001b[0mpivo\u001b[0m \u001b[0;34m-\u001b[0m \u001b[0;36m1\u001b[0m\u001b[0;34m)\u001b[0m\u001b[0;34m\u001b[0m\u001b[0;34m\u001b[0m\u001b[0m\n\u001b[0m\u001b[1;32m     36\u001b[0m             \u001b[0mself\u001b[0m\u001b[0;34m.\u001b[0m\u001b[0mquick_sort\u001b[0m\u001b[0;34m(\u001b[0m\u001b[0mself\u001b[0m\u001b[0;34m.\u001b[0m\u001b[0mv\u001b[0m\u001b[0;34m,\u001b[0m \u001b[0mself\u001b[0m\u001b[0;34m.\u001b[0m\u001b[0mpivo\u001b[0m \u001b[0;34m+\u001b[0m \u001b[0;36m1\u001b[0m\u001b[0;34m,\u001b[0m \u001b[0mself\u001b[0m\u001b[0;34m.\u001b[0m\u001b[0mfim\u001b[0m\u001b[0;34m)\u001b[0m\u001b[0;34m\u001b[0m\u001b[0;34m\u001b[0m\u001b[0m\n",
      "\u001b[0;31mTypeError\u001b[0m: quick_sort() takes 1 positional argument but 4 were given"
     ]
    }
   ],
   "source": [
    "teste = quick.quick_sort()"
   ]
  },
  {
   "cell_type": "code",
   "execution_count": null,
   "metadata": {},
   "outputs": [],
   "source": []
  },
  {
   "cell_type": "code",
   "execution_count": null,
   "metadata": {},
   "outputs": [],
   "source": []
  }
 ],
 "metadata": {
  "kernelspec": {
   "display_name": "Python 3",
   "language": "python",
   "name": "python3"
  },
  "language_info": {
   "codemirror_mode": {
    "name": "ipython",
    "version": 3
   },
   "file_extension": ".py",
   "mimetype": "text/x-python",
   "name": "python",
   "nbconvert_exporter": "python",
   "pygments_lexer": "ipython3",
   "version": "3.7.6"
  }
 },
 "nbformat": 4,
 "nbformat_minor": 4
}
