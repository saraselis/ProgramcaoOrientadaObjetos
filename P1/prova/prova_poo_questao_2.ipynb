{
  "nbformat": 4,
  "nbformat_minor": 0,
  "metadata": {
    "kernelspec": {
      "display_name": "Python 3",
      "language": "python",
      "name": "python3"
    },
    "language_info": {
      "codemirror_mode": {
        "name": "ipython",
        "version": 3
      },
      "file_extension": ".py",
      "mimetype": "text/x-python",
      "name": "python",
      "nbconvert_exporter": "python",
      "pygments_lexer": "ipython3",
      "version": "3.6.9"
    },
    "colab": {
      "name": "prova_poo_questao_2.ipynb",
      "provenance": []
    }
  },
  "cells": [
    {
      "cell_type": "markdown",
      "metadata": {
        "id": "Rz6QQ3igddlb",
        "colab_type": "text"
      },
      "source": [
        "# Primeria prova POO"
      ]
    },
    {
      "cell_type": "markdown",
      "metadata": {
        "id": "hqsBtCT5ddlc",
        "colab_type": "text"
      },
      "source": [
        "> Importando bibliotecas"
      ]
    },
    {
      "cell_type": "code",
      "metadata": {
        "id": "t99Y55IBddld",
        "colab_type": "code",
        "colab": {}
      },
      "source": [
        "import cmath"
      ],
      "execution_count": 0,
      "outputs": []
    },
    {
      "cell_type": "markdown",
      "metadata": {
        "id": "0JfEPPfQddlh",
        "colab_type": "text"
      },
      "source": [
        "> Classes"
      ]
    },
    {
      "cell_type": "code",
      "metadata": {
        "id": "V5vhmi33ddli",
        "colab_type": "code",
        "colab": {}
      },
      "source": [
        "class Numero:\n",
        "    '''\n",
        "        Essa classe instancia um numero complexo em forma retangular\n",
        "        e realizar conversoes para polar, exponencial e retorna o teta do numero.\n",
        "    '''\n",
        "    \n",
        "    def __init__(self, number:complex):\n",
        "        self._number = number\n",
        "    \n",
        "    @property\n",
        "    def number(self) -> complex:\n",
        "        return self._number\n",
        "    \n",
        "    @number.setter\n",
        "    def number(self, number_:complex) -> complex:\n",
        "        self._number = number_\n",
        "        return self._number\n",
        "\n",
        "    def polar(self) -> complex:\n",
        "        polar = cmath.polar(self._number)\n",
        "        return polar\n",
        "    \n",
        "    def expo(self) -> complex:\n",
        "        expo = cmath.exp(self._number)\n",
        "        return expo\n",
        "    \n",
        "    def teta(self) -> complex:\n",
        "        tetao = cmath.atan(self._number)\n",
        "        return tetao\n",
        "    \n",
        "    def __str__(self):\n",
        "        return f\"O número complexo {self._number} foi instanciado!\""
      ],
      "execution_count": 0,
      "outputs": []
    },
    {
      "cell_type": "code",
      "metadata": {
        "id": "VgsE_zooddlm",
        "colab_type": "code",
        "colab": {}
      },
      "source": [
        "class CalculadoraComplexa:\n",
        "    '''\n",
        "       Essa classe realiza operacoes entre numeros complexos. \n",
        "    '''\n",
        "    def __init__(self, resultados=0):\n",
        "        self._resultados = resultados\n",
        "        \n",
        "    def somar(self, numero_1:Numero, numero_2:Numero) -> complex:\n",
        "        '''\n",
        "            Params\n",
        "            -----\n",
        "            numero_1: primeiro numero complexo das operacoes\n",
        "            numero_2: segundo numero complexo das operacoes\n",
        "            \n",
        "            Return\n",
        "            -----\n",
        "            resultados: resultado da operacoes realizadas\n",
        "        '''\n",
        "        self._resultados = numero_1.number + numero_2.number\n",
        "        return self._resultados\n",
        "    \n",
        "    def sub(self, numero_1:Numero, numero_2:Numero) -> complex:\n",
        "        '''\n",
        "            Params\n",
        "            -----\n",
        "            numero_1: primeiro numero complexo das operacoes\n",
        "            numero_2: segundo numero complexo das operacoes\n",
        "            \n",
        "            Return\n",
        "            -----\n",
        "            resultados: resultado da operacoes realizadas\n",
        "        '''\n",
        "        self._resultados = numero_1.number - numero_2.number\n",
        "        return self._resultados\n",
        "    \n",
        "    def multi(self, numero_1:Numero, numero_2:Numero) -> complex:\n",
        "        '''\n",
        "            Params\n",
        "            -----\n",
        "            numero_1: primeiro numero complexo das operacoes\n",
        "            numero_2: segundo numero complexo das operacoes\n",
        "            \n",
        "            Return\n",
        "            -----\n",
        "            resultados: resultado da operacoes realizadas\n",
        "        '''\n",
        "        self._resultados = numero_1.number * numero_2.number\n",
        "        return self._resultados\n",
        "    \n",
        "    def div(self, numero_1:Numero, numero_2:Numero) -> complex:\n",
        "        '''\n",
        "            Params\n",
        "            -----\n",
        "            numero_1: primeiro numero complexo das operacoes\n",
        "            numero_2: segundo numero complexo das operacoes\n",
        "            \n",
        "            Return\n",
        "            -----\n",
        "            resultados: resultado da operacoes realizadas\n",
        "        '''\n",
        "        self._resultados = numero_1.number / numero_2.number\n",
        "        return self._resultados"
      ],
      "execution_count": 0,
      "outputs": []
    },
    {
      "cell_type": "markdown",
      "metadata": {
        "id": "FRiWpUBrddlp",
        "colab_type": "text"
      },
      "source": [
        "------"
      ]
    },
    {
      "cell_type": "code",
      "metadata": {
        "id": "N8RNBsLpddlq",
        "colab_type": "code",
        "colab": {}
      },
      "source": [
        "z1 = Numero(4+4j)"
      ],
      "execution_count": 0,
      "outputs": []
    },
    {
      "cell_type": "code",
      "metadata": {
        "id": "kn2NNsreddlt",
        "colab_type": "code",
        "colab": {
          "base_uri": "https://localhost:8080/",
          "height": 34
        },
        "outputId": "1a9f9f3d-7a02-4267-b278-c703b1798ac5"
      },
      "source": [
        "print(z1)"
      ],
      "execution_count": 36,
      "outputs": [
        {
          "output_type": "stream",
          "text": [
            "O número complexo (4+4j) foi instanciado!\n"
          ],
          "name": "stdout"
        }
      ]
    },
    {
      "cell_type": "code",
      "metadata": {
        "id": "nR6ZxSKgddlx",
        "colab_type": "code",
        "colab": {
          "base_uri": "https://localhost:8080/",
          "height": 34
        },
        "outputId": "9910d8e6-2297-457d-b6b2-4ab40ad7748e"
      },
      "source": [
        "z1.polar()"
      ],
      "execution_count": 37,
      "outputs": [
        {
          "output_type": "execute_result",
          "data": {
            "text/plain": [
              "(5.656854249492381, 0.7853981633974483)"
            ]
          },
          "metadata": {
            "tags": []
          },
          "execution_count": 37
        }
      ]
    },
    {
      "cell_type": "code",
      "metadata": {
        "id": "rpCyMK_eddl1",
        "colab_type": "code",
        "colab": {
          "base_uri": "https://localhost:8080/",
          "height": 34
        },
        "outputId": "7e8a84af-505f-47ac-db1e-23dcf1a280c1"
      },
      "source": [
        "z1.expo()"
      ],
      "execution_count": 38,
      "outputs": [
        {
          "output_type": "execute_result",
          "data": {
            "text/plain": [
              "(-35.68773248011913-41.3200161842802j)"
            ]
          },
          "metadata": {
            "tags": []
          },
          "execution_count": 38
        }
      ]
    },
    {
      "cell_type": "code",
      "metadata": {
        "id": "B-tepKgqddl4",
        "colab_type": "code",
        "colab": {
          "base_uri": "https://localhost:8080/",
          "height": 34
        },
        "outputId": "a0971ee5-6ad0-4894-acc1-9a55aba25bc8"
      },
      "source": [
        "z1.teta()"
      ],
      "execution_count": 39,
      "outputs": [
        {
          "output_type": "execute_result",
          "data": {
            "text/plain": [
              "(1.4445191889058668+0.12367406045902676j)"
            ]
          },
          "metadata": {
            "tags": []
          },
          "execution_count": 39
        }
      ]
    },
    {
      "cell_type": "markdown",
      "metadata": {
        "id": "p6OjGgScddl7",
        "colab_type": "text"
      },
      "source": [
        "------"
      ]
    },
    {
      "cell_type": "code",
      "metadata": {
        "id": "KKGaamqwddl8",
        "colab_type": "code",
        "colab": {}
      },
      "source": [
        "z2 = Numero(1+2j)"
      ],
      "execution_count": 0,
      "outputs": []
    },
    {
      "cell_type": "code",
      "metadata": {
        "id": "qYTRfUMRddl_",
        "colab_type": "code",
        "colab": {
          "base_uri": "https://localhost:8080/",
          "height": 34
        },
        "outputId": "cfbbfae9-d5e5-4303-87d5-95bd92631093"
      },
      "source": [
        "print(z2)"
      ],
      "execution_count": 41,
      "outputs": [
        {
          "output_type": "stream",
          "text": [
            "O número complexo (1+2j) foi instanciado!\n"
          ],
          "name": "stdout"
        }
      ]
    },
    {
      "cell_type": "code",
      "metadata": {
        "id": "v12XcM3uddmE",
        "colab_type": "code",
        "colab": {
          "base_uri": "https://localhost:8080/",
          "height": 34
        },
        "outputId": "3a03e0d1-bb73-4e07-e1a4-6c1db52f8b08"
      },
      "source": [
        "z2.polar()"
      ],
      "execution_count": 42,
      "outputs": [
        {
          "output_type": "execute_result",
          "data": {
            "text/plain": [
              "(2.23606797749979, 1.1071487177940904)"
            ]
          },
          "metadata": {
            "tags": []
          },
          "execution_count": 42
        }
      ]
    },
    {
      "cell_type": "code",
      "metadata": {
        "id": "eYcTKQVRddmH",
        "colab_type": "code",
        "colab": {
          "base_uri": "https://localhost:8080/",
          "height": 34
        },
        "outputId": "db7cd3ef-339f-4a26-b2c4-1f30f7219f7a"
      },
      "source": [
        "z2.expo()"
      ],
      "execution_count": 43,
      "outputs": [
        {
          "output_type": "execute_result",
          "data": {
            "text/plain": [
              "(-1.1312043837568135+2.4717266720048188j)"
            ]
          },
          "metadata": {
            "tags": []
          },
          "execution_count": 43
        }
      ]
    },
    {
      "cell_type": "code",
      "metadata": {
        "id": "Z38ncKNEddmK",
        "colab_type": "code",
        "colab": {
          "base_uri": "https://localhost:8080/",
          "height": 34
        },
        "outputId": "b1844b7f-f8eb-4b56-c9a3-a97d47a6842e"
      },
      "source": [
        "z2.teta()"
      ],
      "execution_count": 44,
      "outputs": [
        {
          "output_type": "execute_result",
          "data": {
            "text/plain": [
              "(1.3389725222944935+0.40235947810852507j)"
            ]
          },
          "metadata": {
            "tags": []
          },
          "execution_count": 44
        }
      ]
    },
    {
      "cell_type": "markdown",
      "metadata": {
        "id": "rCuX0ygMddmN",
        "colab_type": "text"
      },
      "source": [
        "-----"
      ]
    },
    {
      "cell_type": "code",
      "metadata": {
        "id": "_6u6S_SqddmO",
        "colab_type": "code",
        "colab": {}
      },
      "source": [
        "calc = CalculadoraComplexa()"
      ],
      "execution_count": 0,
      "outputs": []
    },
    {
      "cell_type": "code",
      "metadata": {
        "id": "GVwDNpP2ddmQ",
        "colab_type": "code",
        "colab": {
          "base_uri": "https://localhost:8080/",
          "height": 34
        },
        "outputId": "89c0c231-2dc7-4a14-a74f-c7cfa36c7069"
      },
      "source": [
        "calc.somar(z1, z2)"
      ],
      "execution_count": 46,
      "outputs": [
        {
          "output_type": "execute_result",
          "data": {
            "text/plain": [
              "(5+6j)"
            ]
          },
          "metadata": {
            "tags": []
          },
          "execution_count": 46
        }
      ]
    },
    {
      "cell_type": "code",
      "metadata": {
        "id": "3Jv8wjlpddmT",
        "colab_type": "code",
        "colab": {
          "base_uri": "https://localhost:8080/",
          "height": 34
        },
        "outputId": "02cfe9a9-1faa-40ac-fa66-530c6b7c9167"
      },
      "source": [
        "calc.sub(z1, z2)"
      ],
      "execution_count": 47,
      "outputs": [
        {
          "output_type": "execute_result",
          "data": {
            "text/plain": [
              "(3+2j)"
            ]
          },
          "metadata": {
            "tags": []
          },
          "execution_count": 47
        }
      ]
    },
    {
      "cell_type": "code",
      "metadata": {
        "id": "A0S9fQRaddmX",
        "colab_type": "code",
        "colab": {
          "base_uri": "https://localhost:8080/",
          "height": 34
        },
        "outputId": "773fea07-18c4-4743-9aa6-4fa28313407a"
      },
      "source": [
        "calc.multi(z1, z2)"
      ],
      "execution_count": 48,
      "outputs": [
        {
          "output_type": "execute_result",
          "data": {
            "text/plain": [
              "(-4+12j)"
            ]
          },
          "metadata": {
            "tags": []
          },
          "execution_count": 48
        }
      ]
    },
    {
      "cell_type": "code",
      "metadata": {
        "id": "Wsun0YeIddmZ",
        "colab_type": "code",
        "colab": {
          "base_uri": "https://localhost:8080/",
          "height": 34
        },
        "outputId": "bc29e180-2a75-4cac-fde0-3f4f0b315c7c"
      },
      "source": [
        "calc.div(z1, z2)"
      ],
      "execution_count": 49,
      "outputs": [
        {
          "output_type": "execute_result",
          "data": {
            "text/plain": [
              "(2.4-0.8j)"
            ]
          },
          "metadata": {
            "tags": []
          },
          "execution_count": 49
        }
      ]
    },
    {
      "cell_type": "code",
      "metadata": {
        "id": "bS3KWFUBddmc",
        "colab_type": "code",
        "colab": {}
      },
      "source": [
        ""
      ],
      "execution_count": 0,
      "outputs": []
    },
    {
      "cell_type": "code",
      "metadata": {
        "id": "2T2Oq0-cddme",
        "colab_type": "code",
        "colab": {}
      },
      "source": [
        ""
      ],
      "execution_count": 0,
      "outputs": []
    },
    {
      "cell_type": "code",
      "metadata": {
        "id": "K3OUISdDddmh",
        "colab_type": "code",
        "colab": {}
      },
      "source": [
        ""
      ],
      "execution_count": 0,
      "outputs": []
    },
    {
      "cell_type": "code",
      "metadata": {
        "id": "L59axTJAddmk",
        "colab_type": "code",
        "colab": {}
      },
      "source": [
        ""
      ],
      "execution_count": 0,
      "outputs": []
    }
  ]
}